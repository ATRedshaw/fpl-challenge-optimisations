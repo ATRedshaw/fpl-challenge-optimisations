{
 "cells": [
  {
   "cell_type": "code",
   "execution_count": 1,
   "metadata": {},
   "outputs": [
    {
     "name": "stdout",
     "output_type": "stream",
     "text": [
      "Requirement already satisfied: pulp in c:\\users\\alex\\appdata\\local\\programs\\python\\python310\\lib\\site-packages (2.8.0)\n",
      "Requirement already satisfied: brotli in c:\\users\\alex\\appdata\\local\\programs\\python\\python310\\lib\\site-packages (1.1.0)\n",
      "Requirement already satisfied: fuzzywuzzy in c:\\users\\alex\\appdata\\local\\programs\\python\\python310\\lib\\site-packages (0.18.0)\n"
     ]
    },
    {
     "name": "stderr",
     "output_type": "stream",
     "text": [
      "\n",
      "[notice] A new release of pip is available: 23.0 -> 24.3.1\n",
      "[notice] To update, run: python.exe -m pip install --upgrade pip\n"
     ]
    }
   ],
   "source": [
    "# Relevant module imports and installs\n",
    "import pandas as pd\n",
    "!pip install pulp brotli fuzzywuzzy\n",
    "import pulp as plp\n",
    "import sys \n",
    "import os\n",
    "from collections import defaultdict\n",
    "from fuzzywuzzy import process\n",
    "import time"
   ]
  },
  {
   "cell_type": "code",
   "execution_count": 2,
   "metadata": {},
   "outputs": [],
   "source": [
    "solve_season = '2024-25'\n",
    "solve_gameweek = 13\n",
    "load_projections_from_file = False"
   ]
  },
  {
   "cell_type": "code",
   "execution_count": 3,
   "metadata": {},
   "outputs": [
    {
     "name": "stdout",
     "output_type": "stream",
     "text": [
      "Generated new projections.\n"
     ]
    }
   ],
   "source": [
    "# Get the absolute path to the directory containing the Python file\n",
    "module_path = os.path.abspath(os.path.join('..', '..'))\n",
    "\n",
    "# Add the directory to sys.path\n",
    "if module_path not in sys.path:\n",
    "    sys.path.append(module_path)\n",
    "\n",
    "# Now you can import the module\n",
    "from projections import generate_projections, generate_stat_projections, append_stat_projections\n",
    "\n",
    "if not load_projections_from_file:\n",
    "    point_projections = generate_projections()\n",
    "    stat_projections = generate_stat_projections()\n",
    "\n",
    "    projections_data = append_stat_projections(point_projections, stat_projections, solve_gameweek)\n",
    "    projections_data.to_csv('gameweek_projections.csv', index=False)\n",
    "    print('Generated new projections.')\n",
    "else:\n",
    "    try:\n",
    "        projections_data = pd.read_csv('gameweek_projections.csv')\n",
    "        print('Loaded projections from CSV file.')\n",
    "    except FileNotFoundError:\n",
    "        print('Tried to load from CSV file, but it does not exist. Generating new projections...')\n",
    "        point_projections = generate_projections()\n",
    "        stat_projections = generate_stat_projections()\n",
    "        projections_data = append_stat_projections(point_projections, stat_projections, solve_gameweek)"
   ]
  },
  {
   "cell_type": "markdown",
   "metadata": {},
   "source": [
    "### Player Manipulation"
   ]
  },
  {
   "cell_type": "markdown",
   "metadata": {},
   "source": [
    "### Player Force/Banning"
   ]
  },
  {
   "cell_type": "code",
   "execution_count": 4,
   "metadata": {},
   "outputs": [
    {
     "name": "stdout",
     "output_type": "stream",
     "text": [
      "Final ban list (indices): []\n"
     ]
    }
   ],
   "source": [
    "def fuzzy_ban_players(df, ban_ids):\n",
    "    while True:\n",
    "        search_name = input(\"Enter player name to ban (or press enter to finish): \").strip()\n",
    "        \n",
    "        if search_name.lower() == '':\n",
    "            break\n",
    "        \n",
    "        # Perform fuzzy matching with a lower score cutoff and no limit\n",
    "        matches = process.extractBests(search_name, df['Name'].tolist(), score_cutoff=50, limit=10)\n",
    "        \n",
    "        if not matches:\n",
    "            print(\"No matches found. Please try again.\")\n",
    "            continue\n",
    "        \n",
    "        # Display matches\n",
    "        print(\"Matches found:\")\n",
    "        for idx, (name, score) in enumerate(matches, 1):\n",
    "            player_index = df[df['Name'] == name].index[0]\n",
    "            player_id = df.loc[player_index, 'ID']\n",
    "            print(f\"{idx}. {name} (ID: {player_id}, Index: {player_index}, Score: {score})\")\n",
    "        \n",
    "        # Ask user to select a match\n",
    "        while True:\n",
    "            choice = input(\"Enter the number of the player to ban (or 'skip' to search again): \")\n",
    "            if choice.lower() == 'skip':\n",
    "                break\n",
    "            try:\n",
    "                choice_idx = int(choice) - 1\n",
    "                if 0 <= choice_idx < len(matches):\n",
    "                    selected_name = matches[choice_idx][0]\n",
    "                    selected_index = df[df['Name'] == selected_name].index[0]\n",
    "                    selected_id = df.loc[selected_index, 'ID']\n",
    "                    ban_ids.append(selected_index)\n",
    "                    print(f\"Banned: {selected_name} (ID: {selected_id}, Index: {selected_index})\")\n",
    "                    break\n",
    "                else:\n",
    "                    print(\"Invalid choice. Please try again.\")\n",
    "            except ValueError:\n",
    "                print(\"Invalid input. Please enter a number or 'skip'.\")\n",
    "    \n",
    "    return ban_ids\n",
    "\n",
    "ban_ids = []\n",
    "ban_ids = fuzzy_ban_players(projections_data, ban_ids)\n",
    "print(\"Final ban list (indices):\", ban_ids)"
   ]
  },
  {
   "cell_type": "code",
   "execution_count": 5,
   "metadata": {},
   "outputs": [
    {
     "name": "stdout",
     "output_type": "stream",
     "text": [
      "Final force list (indices): []\n"
     ]
    }
   ],
   "source": [
    "def fuzzy_force_players(df, force_ids):\n",
    "    while True:\n",
    "        search_name = input(\"Enter player name to force (or press enter to finish): \").strip()\n",
    "        \n",
    "        if search_name.lower() == '':\n",
    "            break\n",
    "        \n",
    "        # Perform fuzzy matching with a lower score cutoff and no limit\n",
    "        matches = process.extractBests(search_name, df['Name'].tolist(), score_cutoff=50, limit=10)\n",
    "        \n",
    "        if not matches:\n",
    "            print(\"No matches found. Please try again.\")\n",
    "            continue\n",
    "        \n",
    "        # Display matches\n",
    "        print(\"Matches found:\")\n",
    "        for idx, (name, score) in enumerate(matches, 1):\n",
    "            player_index = df[df['Name'] == name].index[0]\n",
    "            player_id = df.loc[player_index, 'ID']\n",
    "            print(f\"{idx}. {name} (ID: {player_id}, Index: {player_index}, Score: {score})\")\n",
    "        \n",
    "        # Ask user to select a match\n",
    "        while True:\n",
    "            choice = input(\"Enter the number of the player to force (or 'skip' to search again): \")\n",
    "            if choice.lower() == 'skip':\n",
    "                break\n",
    "            try:\n",
    "                choice_idx = int(choice) - 1\n",
    "                if 0 <= choice_idx < len(matches):\n",
    "                    selected_name = matches[choice_idx][0]\n",
    "                    selected_index = df[df['Name'] == selected_name].index[0]\n",
    "                    selected_id = df.loc[selected_index, 'ID']\n",
    "                    force_ids.append(selected_index)  # Add to force_ids instead of ban_ids\n",
    "                    print(f\"Forced: {selected_name} (ID: {selected_id}, Index: {selected_index})\")\n",
    "                    break\n",
    "                else:\n",
    "                    print(\"Invalid choice. Please try again.\")\n",
    "            except ValueError:\n",
    "                print(\"Invalid input. Please enter a number or 'skip'.\")\n",
    "    \n",
    "    return force_ids\n",
    "\n",
    "force_ids = []\n",
    "force_ids = fuzzy_force_players(projections_data, force_ids)\n",
    "print(\"Final force list (indices):\", force_ids)"
   ]
  },
  {
   "cell_type": "markdown",
   "metadata": {},
   "source": [
    "# 2024/25 GW13 Challenge: Haaland or Salah? - Liverpool and Man City players earn double points"
   ]
  },
  {
   "cell_type": "code",
   "execution_count": 6,
   "metadata": {},
   "outputs": [],
   "source": [
    "# Double points for Liverpool and Man City players\n",
    "double_points_teams = ['Liverpool', 'Man City']\n",
    "projections_data.loc[projections_data['Team'].isin(double_points_teams), 'Predicted_Points'] *= 2"
   ]
  },
  {
   "cell_type": "markdown",
   "metadata": {},
   "source": [
    "### Optimisation"
   ]
  },
  {
   "cell_type": "code",
   "execution_count": 9,
   "metadata": {},
   "outputs": [
    {
     "name": "stdout",
     "output_type": "stream",
     "text": [
      "Status: Optimal\n"
     ]
    }
   ],
   "source": [
    "# Get the number of players and their list of ids\n",
    "player_ids = projections_data['ID'].tolist()\n",
    "player_count = len(player_ids)\n",
    "\n",
    "# Set up the problem\n",
    "model = plp.LpProblem(\"fpl-challenge\", plp.LpMaximize)\n",
    "\n",
    "# Define the decision variables\n",
    "lineup = [\n",
    "    plp.LpVariable(f\"lineup_{i}\", lowBound=0, upBound=1, cat=\"Integer\")\n",
    "    for i in player_ids\n",
    "]\n",
    "\n",
    "# Define captain variables\n",
    "captain = [\n",
    "    plp.LpVariable(f\"captain_{i}\", lowBound=0, upBound=1, cat=\"Integer\")\n",
    "    for i in player_ids\n",
    "]\n",
    "\n",
    "# Set the objective function (the number of points scored by the team, with captain's points doubled)\n",
    "model += plp.lpSum([lineup[i] * projections_data.loc[i, 'Predicted_Points'] for i in range(player_count)]) + \\\n",
    "         plp.lpSum([captain[i] * projections_data.loc[i, 'Predicted_Points'] for i in range(player_count)])\n",
    "\n",
    "# Constraints\n",
    "\n",
    "# Total number of players = 7\n",
    "model += plp.lpSum(lineup) == 7\n",
    "\n",
    "# List players by index to be EXCLUDED from the lineup\n",
    "for id in ban_ids:\n",
    "    model += lineup[id] == 0\n",
    "\n",
    "for id in force_ids:\n",
    "    model += lineup[id] == 1\n",
    "\n",
    "# Exactly one captain\n",
    "model += plp.lpSum(captain) == 1\n",
    "\n",
    "# Captain must be in the lineup\n",
    "for i in range(player_count):\n",
    "    model += captain[i] <= lineup[i]\n",
    "\n",
    "# Exactly 1 Goalkeeper\n",
    "model += plp.lpSum([lineup[i] for i in range(player_count) if projections_data.loc[i, 'Position'] == 'Goalkeeper']) == 1\n",
    "\n",
    "# Between 2-3 Defenders\n",
    "model += plp.lpSum([lineup[i] for i in range(player_count) if projections_data.loc[i, 'Position'] == 'Defender']) >= 2\n",
    "model += plp.lpSum([lineup[i] for i in range(player_count) if projections_data.loc[i, 'Position'] == 'Defender']) <= 3\n",
    "\n",
    "# Between 1-3 Midfielders\n",
    "model += plp.lpSum([lineup[i] for i in range(player_count) if projections_data.loc[i, 'Position'] == 'Midfielder']) >= 1\n",
    "model += plp.lpSum([lineup[i] for i in range(player_count) if projections_data.loc[i, 'Position'] == 'Midfielder']) <= 3\n",
    "\n",
    "# Between 1-3 Forwards\n",
    "model += plp.lpSum([lineup[i] for i in range(player_count) if projections_data.loc[i, 'Position'] == 'Forward']) >= 1\n",
    "model += plp.lpSum([lineup[i] for i in range(player_count) if projections_data.loc[i, 'Position'] == 'Forward']) <= 3\n",
    "\n",
    "# Budget constraint TBC\n",
    "model += plp.lpSum([lineup[i] * projections_data.loc[i, 'Cost'] for i in range(player_count)]) <= 45\n",
    "\n",
    "# Solve the problem\n",
    "model.solve()\n",
    "\n",
    "# Function to print players by position\n",
    "def print_players_by_position(players_dict):\n",
    "    total_points = 0\n",
    "    total_cost = 0\n",
    "    for position in ['Goalkeeper', 'Defender', 'Midfielder', 'Forward']:\n",
    "        if position in players_dict:\n",
    "            print(f\"\\n{position}:\")\n",
    "            for player in players_dict[position]:\n",
    "                captain_str = \" (C)\" if player['Captain'] else \"\"\n",
    "                points = player['Predicted_Points'] * (2 if player['Captain'] else 1)\n",
    "                print(f\"  {player['Name']}{captain_str} - {player['Team']} - Cost: {player['Cost']}m - Predicted Points: {points}\")\n",
    "                total_points += points\n",
    "                total_cost += player['Cost']\n",
    "    print(f\"\\nTotal Predicted Points: {round(total_points, 2)}\")\n",
    "    print(f\"Total Cost: {round(total_cost, 2)}m\")\n",
    "\n",
    "# Print the results\n",
    "print(\"Status:\", plp.LpStatus[model.status])\n",
    "selected_players = defaultdict(list)\n",
    "for i in range(player_count):\n",
    "    if lineup[i].value() == 1:\n",
    "        player = projections_data.loc[i]\n",
    "        selected_players[player['Position']].append({\n",
    "            'Name': player['Name'],\n",
    "            'Team': player['Team'],\n",
    "            'Cost': player['Cost'],\n",
    "            'Predicted_Points': player['Predicted_Points'],\n",
    "            'Captain': captain[i].value() == 1\n",
    "        })\n",
    "\n",
    "def solution_to_txt(players_dict, filename=\"solution.txt\", encoding=\"utf-8\"):\n",
    "    total_points = 0\n",
    "    total_cost = 0\n",
    "    with open(filename, 'w', encoding=encoding) as f:\n",
    "        f.write(f'Current Date & Time: {time.strftime(\"%Y-%m-%d\")} - {time.strftime(\"%H:%M:%S\")}\\n')\n",
    "        for position in ['Goalkeeper', 'Defender', 'Midfielder', 'Forward']:\n",
    "            if position in players_dict:\n",
    "                f.write(f\"\\n{position}:\\n\")\n",
    "                for player in players_dict[position]:\n",
    "                    captain_str = \" (C)\" if player['Captain'] else \"\"\n",
    "                    points = player['Predicted_Points'] * (2 if player['Captain'] else 1)\n",
    "                    f.write(f\"  {player['Name']}{captain_str} - {player['Team']} - Cost: {player['Cost']}m - Predicted Points: {points}\\n\")\n",
    "                    total_points += points\n",
    "                    total_cost += player['Cost']\n",
    "        f.write(f\"\\nTotal Predicted Points: {round(total_points, 2)}\\n\")\n",
    "        f.write(f\"Total Cost: {round(total_cost, 2)}m\\n\")\n",
    "\n",
    "solution_to_txt(selected_players, \"optimal_solution.txt\")\n",
    "print_solution = False\n",
    "if print_solution:\n",
    "    print(\"\\nOptimal Lineup:\")\n",
    "    print_players_by_position(selected_players)"
   ]
  },
  {
   "cell_type": "code",
   "execution_count": 10,
   "metadata": {},
   "outputs": [],
   "source": [
    "def print_top_scorers_by_position(projections_data):\n",
    "    for position in ['Goalkeeper', 'Defender', 'Midfielder', 'Forward']:\n",
    "        top_scorers = projections_data[projections_data['Position'] == position].nlargest(10, 'Predicted_Points')\n",
    "        print(f'Top {position}s: ')\n",
    "        display(top_scorers)\n",
    "\n",
    "if print_solution:\n",
    "    print_top_scorers_by_position(projections_data)"
   ]
  }
 ],
 "metadata": {
  "kernelspec": {
   "display_name": "Python 3",
   "language": "python",
   "name": "python3"
  },
  "language_info": {
   "codemirror_mode": {
    "name": "ipython",
    "version": 3
   },
   "file_extension": ".py",
   "mimetype": "text/x-python",
   "name": "python",
   "nbconvert_exporter": "python",
   "pygments_lexer": "ipython3",
   "version": "3.10.6"
  }
 },
 "nbformat": 4,
 "nbformat_minor": 2
}
