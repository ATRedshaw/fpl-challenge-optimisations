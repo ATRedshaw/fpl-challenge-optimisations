{
 "cells": [
  {
   "cell_type": "code",
   "execution_count": 1,
   "metadata": {},
   "outputs": [
    {
     "name": "stdout",
     "output_type": "stream",
     "text": [
      "Requirement already satisfied: pulp in /Library/Frameworks/Python.framework/Versions/3.10/lib/python3.10/site-packages (2.9.0)\n",
      "Requirement already satisfied: pandas in /Library/Frameworks/Python.framework/Versions/3.10/lib/python3.10/site-packages (2.1.1)\n",
      "Requirement already satisfied: brotli in /Library/Frameworks/Python.framework/Versions/3.10/lib/python3.10/site-packages (1.1.0)\n",
      "Requirement already satisfied: pytz>=2020.1 in /Library/Frameworks/Python.framework/Versions/3.10/lib/python3.10/site-packages (from pandas) (2023.3.post1)\n",
      "Requirement already satisfied: numpy>=1.22.4 in /Users/alex/Library/Python/3.10/lib/python/site-packages (from pandas) (1.26.4)\n",
      "Requirement already satisfied: tzdata>=2022.1 in /Library/Frameworks/Python.framework/Versions/3.10/lib/python3.10/site-packages (from pandas) (2023.3)\n",
      "Requirement already satisfied: python-dateutil>=2.8.2 in /Library/Frameworks/Python.framework/Versions/3.10/lib/python3.10/site-packages (from pandas) (2.8.2)\n",
      "Requirement already satisfied: six>=1.5 in /Library/Frameworks/Python.framework/Versions/3.10/lib/python3.10/site-packages (from python-dateutil>=2.8.2->pandas) (1.16.0)\n",
      "\n",
      "\u001b[1m[\u001b[0m\u001b[34;49mnotice\u001b[0m\u001b[1;39;49m]\u001b[0m\u001b[39;49m A new release of pip is available: \u001b[0m\u001b[31;49m23.0\u001b[0m\u001b[39;49m -> \u001b[0m\u001b[32;49m24.3.1\u001b[0m\n",
      "\u001b[1m[\u001b[0m\u001b[34;49mnotice\u001b[0m\u001b[1;39;49m]\u001b[0m\u001b[39;49m To update, run: \u001b[0m\u001b[32;49mpip install --upgrade pip\u001b[0m\n"
     ]
    }
   ],
   "source": [
    "# Relevant module imports and installs\n",
    "!pip install pulp pandas brotli\n",
    "import pandas as pd\n",
    "import pulp as plp\n",
    "import sys \n",
    "import os\n",
    "from collections import defaultdict"
   ]
  },
  {
   "cell_type": "code",
   "execution_count": 2,
   "metadata": {},
   "outputs": [],
   "source": [
    "# Get the absolute path to the directory containing the Python file\n",
    "module_path = os.path.abspath(os.path.join('..', '..'))\n",
    "\n",
    "# Add the directory to sys.path\n",
    "if module_path not in sys.path:\n",
    "    sys.path.append(module_path)\n",
    "\n",
    "# Import the data retrieval functions\n",
    "from challenge_data import get_bootstrap_static_data, get_gameweek_data, update_with_gameweek_cost\n",
    "\n",
    "# Get the actual GW4 data\n",
    "bootstrap_data = get_bootstrap_static_data()\n",
    "gw4_data = update_with_gameweek_cost(get_gameweek_data(4, bootstrap_data), '2024-25', 4)"
   ]
  },
  {
   "cell_type": "code",
   "execution_count": 3,
   "metadata": {},
   "outputs": [
    {
     "name": "stdout",
     "output_type": "stream",
     "text": [
      "Status: Optimal\n",
      "\n",
      "Optimal Lineup:\n",
      "\n",
      "Goalkeeper:\n",
      "  Sánchez - Chelsea - Cost: 4.5m - Points: 19\n",
      "  Onana - Man Utd - Cost: 5.0m - Points: 17\n",
      "\n",
      "Defender:\n",
      "  Gabriel - Arsenal - Cost: 6.0m - Points: 19\n",
      "  Dalot - Man Utd - Cost: 5.0m - Points: 15\n",
      "  De Ligt (C) - Man Utd - Cost: 5.0m - Points: 38\n",
      "\n",
      "Total Points: 108\n",
      "Total Cost: 25.5m\n"
     ]
    }
   ],
   "source": [
    "# Get the number of players and their list of ids\n",
    "player_ids = gw4_data['ID'].tolist()\n",
    "player_count = len(player_ids)\n",
    "\n",
    "# Set up the problem\n",
    "model = plp.LpProblem(\"fpl-gw4-challenge-hindsight\", plp.LpMaximize)\n",
    "\n",
    "# Define the decision variables\n",
    "lineup = [\n",
    "    plp.LpVariable(f\"lineup_{i}\", lowBound=0, upBound=1, cat=\"Integer\")\n",
    "    for i in player_ids\n",
    "]\n",
    "\n",
    "# Define captain variables\n",
    "captain = [\n",
    "    plp.LpVariable(f\"captain_{i}\", lowBound=0, upBound=1, cat=\"Integer\")\n",
    "    for i in player_ids\n",
    "]\n",
    "\n",
    "# Set the objective function (the number of points scored by the team, with captain's points doubled)\n",
    "model += plp.lpSum([lineup[i] * gw4_data.loc[i, 'Points'] for i in range(player_count)]) + \\\n",
    "         plp.lpSum([captain[i] * gw4_data.loc[i, 'Points'] for i in range(player_count)])\n",
    "\n",
    "# Constraints\n",
    "\n",
    "# Total number of players = 5 (2 goalkeepers + 3 defenders)\n",
    "model += plp.lpSum(lineup) == 5\n",
    "\n",
    "# Exactly one captain\n",
    "model += plp.lpSum(captain) == 1\n",
    "\n",
    "# Captain must be in the lineup\n",
    "for i in range(player_count):\n",
    "    model += captain[i] <= lineup[i]\n",
    "\n",
    "# Exactly 2 Goalkeeper\n",
    "model += plp.lpSum([lineup[i] for i in range(player_count) if gw4_data.loc[i, 'Position'] == 'Goalkeeper']) == 2\n",
    "\n",
    "# Exactly 3 Defenders\n",
    "model += plp.lpSum([lineup[i] for i in range(player_count) if gw4_data.loc[i, 'Position'] == 'Defender']) == 3\n",
    "\n",
    "# Budget constraint: Total cost must be less than or equal to 30m\n",
    "model += plp.lpSum([lineup[i] * gw4_data.loc[i, 'Cost'] for i in range(player_count)]) <= 30\n",
    "\n",
    "# Solve the problem\n",
    "model.solve(plp.PULP_CBC_CMD(msg=False))\n",
    "\n",
    "# Function to print players by position\n",
    "def print_players_by_position(players_dict):\n",
    "    total_points = 0\n",
    "    total_cost = 0\n",
    "    for position in ['Goalkeeper', 'Defender', 'Midfielder', 'Forward']:\n",
    "        if position in players_dict:\n",
    "            print(f\"\\n{position}:\")\n",
    "            for player in players_dict[position]:\n",
    "                captain_str = \" (C)\" if player['Captain'] else \"\"\n",
    "                points = player['Points'] * (2 if player['Captain'] else 1)\n",
    "                print(f\"  {player['Name']}{captain_str} - {player['Team']} - Cost: {player['Cost']}m - Points: {points}\")\n",
    "                total_points += points\n",
    "                total_cost += player['Cost']\n",
    "    print(f\"\\nTotal Points: {round(total_points, 2)}\")\n",
    "    print(f\"Total Cost: {round(total_cost, 2)}m\")\n",
    "\n",
    "# Print the results\n",
    "print(\"Status:\", plp.LpStatus[model.status])\n",
    "selected_players = defaultdict(list)\n",
    "for i in range(player_count):\n",
    "    if lineup[i].value() == 1:\n",
    "        player = gw4_data.loc[i]\n",
    "        selected_players[player['Position']].append({\n",
    "            'Name': player['Name'],\n",
    "            'Team': player['Team'],\n",
    "            'Cost': player['Cost'],\n",
    "            'Points': player['Points'],\n",
    "            'Captain': captain[i].value() == 1\n",
    "        })\n",
    "\n",
    "print(\"\\nOptimal Lineup:\")\n",
    "print_players_by_position(selected_players)"
   ]
  }
 ],
 "metadata": {
  "kernelspec": {
   "display_name": "Python 3",
   "language": "python",
   "name": "python3"
  },
  "language_info": {
   "codemirror_mode": {
    "name": "ipython",
    "version": 3
   },
   "file_extension": ".py",
   "mimetype": "text/x-python",
   "name": "python",
   "nbconvert_exporter": "python",
   "pygments_lexer": "ipython3",
   "version": "3.10.6"
  }
 },
 "nbformat": 4,
 "nbformat_minor": 2
}
