{
 "cells": [
  {
   "cell_type": "code",
   "execution_count": 28,
   "metadata": {},
   "outputs": [
    {
     "name": "stdout",
     "output_type": "stream",
     "text": [
      "Requirement already satisfied: pulp in c:\\users\\alex\\appdata\\local\\programs\\python\\python310\\lib\\site-packages (2.8.0)\n",
      "Requirement already satisfied: brotli in c:\\users\\alex\\appdata\\local\\programs\\python\\python310\\lib\\site-packages (1.1.0)\n",
      "Requirement already satisfied: fuzzywuzzy in c:\\users\\alex\\appdata\\local\\programs\\python\\python310\\lib\\site-packages (0.18.0)\n"
     ]
    },
    {
     "name": "stderr",
     "output_type": "stream",
     "text": [
      "\n",
      "[notice] A new release of pip is available: 23.0 -> 24.2\n",
      "[notice] To update, run: python.exe -m pip install --upgrade pip\n"
     ]
    }
   ],
   "source": [
    "# Relevant module imports and installs\n",
    "import pandas as pd\n",
    "!pip install pulp brotli fuzzywuzzy\n",
    "import pulp as plp\n",
    "import sys \n",
    "import os\n",
    "from collections import defaultdict\n",
    "from fuzzywuzzy import process"
   ]
  },
  {
   "cell_type": "code",
   "execution_count": 29,
   "metadata": {},
   "outputs": [],
   "source": [
    "# Get the absolute path to the directory containing the Python file\n",
    "module_path = os.path.abspath(os.path.join('..', '..'))\n",
    "\n",
    "# Add the directory to sys.path\n",
    "if module_path not in sys.path:\n",
    "    sys.path.append(module_path)\n",
    "\n",
    "# Now you can import the module\n",
    "from projections import generate_projections, generate_stat_projections, append_stat_projections\n",
    "\n",
    "point_projections = generate_projections()\n",
    "stat_projections = generate_stat_projections()\n",
    "\n",
    "projections_data = append_stat_projections(point_projections, stat_projections, 3)"
   ]
  },
  {
   "cell_type": "code",
   "execution_count": 30,
   "metadata": {},
   "outputs": [
    {
     "name": "stdout",
     "output_type": "stream",
     "text": [
      "Final ban list (indices): []\n"
     ]
    }
   ],
   "source": [
    "def fuzzy_ban_players(df, ban_ids):\n",
    "    while True:\n",
    "        search_name = input(\"Enter player name to ban (or press enter to finish): \").strip()\n",
    "        \n",
    "        if search_name.lower() == '':\n",
    "            break\n",
    "        \n",
    "        # Perform fuzzy matching with a lower score cutoff and no limit\n",
    "        matches = process.extractBests(search_name, df['Name'].tolist(), score_cutoff=50, limit=10)\n",
    "        \n",
    "        if not matches:\n",
    "            print(\"No matches found. Please try again.\")\n",
    "            continue\n",
    "        \n",
    "        # Display matches\n",
    "        print(\"Matches found:\")\n",
    "        for idx, (name, score) in enumerate(matches, 1):\n",
    "            player_index = df[df['Name'] == name].index[0]\n",
    "            player_id = df.loc[player_index, 'ID']\n",
    "            print(f\"{idx}. {name} (ID: {player_id}, Index: {player_index}, Score: {score})\")\n",
    "        \n",
    "        # Ask user to select a match\n",
    "        while True:\n",
    "            choice = input(\"Enter the number of the player to ban (or 'skip' to search again): \")\n",
    "            if choice.lower() == 'skip':\n",
    "                break\n",
    "            try:\n",
    "                choice_idx = int(choice) - 1\n",
    "                if 0 <= choice_idx < len(matches):\n",
    "                    selected_name = matches[choice_idx][0]\n",
    "                    selected_index = df[df['Name'] == selected_name].index[0]\n",
    "                    selected_id = df.loc[selected_index, 'ID']\n",
    "                    ban_ids.append(selected_index)\n",
    "                    print(f\"Banned: {selected_name} (ID: {selected_id}, Index: {selected_index})\")\n",
    "                    break\n",
    "                else:\n",
    "                    print(\"Invalid choice. Please try again.\")\n",
    "            except ValueError:\n",
    "                print(\"Invalid input. Please enter a number or 'skip'.\")\n",
    "    \n",
    "    return ban_ids\n",
    "\n",
    "ban_ids = []\n",
    "ban_ids = fuzzy_ban_players(projections_data, ban_ids)\n",
    "print(\"Final ban list (indices):\", ban_ids)"
   ]
  },
  {
   "cell_type": "markdown",
   "metadata": {},
   "source": [
    "# 2024/25 GW3 Challenge: Promoted Punt - Only players from the promoted teams, Ipswich, Southampton and Leicester City are available."
   ]
  },
  {
   "cell_type": "markdown",
   "metadata": {},
   "source": [
    "### Player Removal"
   ]
  },
  {
   "cell_type": "code",
   "execution_count": 31,
   "metadata": {},
   "outputs": [],
   "source": [
    "# Keep only players who have a team of Ipswich, Leicester or Southampton\n",
    "projections_data = projections_data[projections_data['Team'].isin(['Ipswich', 'Leicester', 'Southampton'])]\n",
    "projections_data = projections_data.reset_index(drop=True)"
   ]
  },
  {
   "cell_type": "markdown",
   "metadata": {},
   "source": [
    "### Optimisation"
   ]
  },
  {
   "cell_type": "code",
   "execution_count": 32,
   "metadata": {},
   "outputs": [
    {
     "name": "stdout",
     "output_type": "stream",
     "text": [
      "Status: Optimal\n"
     ]
    }
   ],
   "source": [
    "# Get the number of players and their list of ids\n",
    "player_ids = projections_data['ID'].tolist()\n",
    "player_count = len(player_ids)\n",
    "\n",
    "# Set up the problem\n",
    "model = plp.LpProblem(\"fpl-gw3-challenge\", plp.LpMaximize)\n",
    "\n",
    "# Define the decision variables\n",
    "lineup = [\n",
    "    plp.LpVariable(f\"lineup_{i}\", lowBound=0, upBound=1, cat=\"Integer\")\n",
    "    for i in player_ids\n",
    "]\n",
    "\n",
    "# Define captain variables\n",
    "captain = [\n",
    "    plp.LpVariable(f\"captain_{i}\", lowBound=0, upBound=1, cat=\"Integer\")\n",
    "    for i in player_ids\n",
    "]\n",
    "\n",
    "# Set the objective function (the number of points scored by the team, with captain's points doubled)\n",
    "model += plp.lpSum([lineup[i] * projections_data.loc[i, 'Predicted_Points'] for i in range(player_count)]) + \\\n",
    "         plp.lpSum([captain[i] * projections_data.loc[i, 'Predicted_Points'] for i in range(player_count)])\n",
    "\n",
    "# Constraints\n",
    "\n",
    "# Total number of players = 5 (1 goalkeeper + 4 outfield players)\n",
    "model += plp.lpSum(lineup) == 5\n",
    "\n",
    "# List players by index to be EXCLUDED from the lineup\n",
    "for id in ban_ids:\n",
    "    model += lineup[id] == 0\n",
    "\n",
    "# Exactly one captain\n",
    "model += plp.lpSum(captain) == 1\n",
    "\n",
    "# Captain must be in the lineup\n",
    "for i in range(player_count):\n",
    "    model += captain[i] <= lineup[i]\n",
    "\n",
    "# Exactly 1 Goalkeeper\n",
    "model += plp.lpSum([lineup[i] for i in range(player_count) if projections_data.loc[i, 'Position'] == 'Goalkeeper']) == 1\n",
    "\n",
    "# Between 1 and 2 defenders, midfielders and forwards\n",
    "model += plp.lpSum([lineup[i] for i in range(player_count) if projections_data.loc[i, 'Position'] == 'Defender']) >= 1\n",
    "model += plp.lpSum([lineup[i] for i in range(player_count) if projections_data.loc[i, 'Position'] == 'Defender']) <= 2\n",
    "model += plp.lpSum([lineup[i] for i in range(player_count) if projections_data.loc[i, 'Position'] == 'Midfielder']) >= 1\n",
    "model += plp.lpSum([lineup[i] for i in range(player_count) if projections_data.loc[i, 'Position'] == 'Midfielder']) <= 2\n",
    "model += plp.lpSum([lineup[i] for i in range(player_count) if projections_data.loc[i, 'Position'] == 'Forward']) >= 1\n",
    "model += plp.lpSum([lineup[i] for i in range(player_count) if projections_data.loc[i, 'Position'] == 'Forward']) <= 2\n",
    "\n",
    "# Budget constraint: Total cost must be less than or equal to 24m\n",
    "model += plp.lpSum([lineup[i] * projections_data.loc[i, 'Cost'] for i in range(player_count)]) <= 24\n",
    "\n",
    "# Solve the problem\n",
    "model.solve()\n",
    "\n",
    "# Function to print players by position\n",
    "def print_players_by_position(players_dict):\n",
    "    total_points = 0\n",
    "    total_cost = 0\n",
    "    for position in ['Goalkeeper', 'Defender', 'Midfielder', 'Forward']:\n",
    "        if position in players_dict:\n",
    "            print(f\"\\n{position}:\")\n",
    "            for player in players_dict[position]:\n",
    "                captain_str = \" (C)\" if player['Captain'] else \"\"\n",
    "                points = player['Predicted_Points'] * (2 if player['Captain'] else 1)\n",
    "                print(f\"  {player['Name']}{captain_str} - {player['Team']} - Cost: {player['Cost']}m - Predicted Points: {points}\")\n",
    "                total_points += points\n",
    "                total_cost += player['Cost']\n",
    "    print(f\"\\nTotal Predicted Points: {round(total_points, 2)}\")\n",
    "    print(f\"Total Cost: {round(total_cost, 2)}m\")\n",
    "\n",
    "# Print the results\n",
    "print(\"Status:\", plp.LpStatus[model.status])\n",
    "selected_players = defaultdict(list)\n",
    "for i in range(player_count):\n",
    "    if lineup[i].value() == 1:\n",
    "        player = projections_data.loc[i]\n",
    "        selected_players[player['Position']].append({\n",
    "            'Name': player['Name'],\n",
    "            'Team': player['Team'],\n",
    "            'Cost': player['Cost'],\n",
    "            'Predicted_Points': player['Predicted_Points'],\n",
    "            'Captain': captain[i].value() == 1\n",
    "        })\n",
    "\n",
    "print_solution = False\n",
    "if print_solution:\n",
    "    print(\"\\nOptimal Lineup:\")\n",
    "    print_players_by_position(selected_players)"
   ]
  }
 ],
 "metadata": {
  "kernelspec": {
   "display_name": "Python 3",
   "language": "python",
   "name": "python3"
  },
  "language_info": {
   "codemirror_mode": {
    "name": "ipython",
    "version": 3
   },
   "file_extension": ".py",
   "mimetype": "text/x-python",
   "name": "python",
   "nbconvert_exporter": "python",
   "pygments_lexer": "ipython3",
   "version": "3.10.6"
  }
 },
 "nbformat": 4,
 "nbformat_minor": 2
}
