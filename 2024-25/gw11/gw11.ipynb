{
 "cells": [
  {
   "cell_type": "code",
   "execution_count": 17,
   "metadata": {},
   "outputs": [
    {
     "name": "stdout",
     "output_type": "stream",
     "text": [
      "Requirement already satisfied: pulp in c:\\users\\alex\\appdata\\local\\programs\\python\\python310\\lib\\site-packages (2.8.0)"
     ]
    },
    {
     "name": "stderr",
     "output_type": "stream",
     "text": [
      "\n",
      "[notice] A new release of pip is available: 23.0 -> 24.2\n",
      "[notice] To update, run: python.exe -m pip install --upgrade pip\n"
     ]
    },
    {
     "name": "stdout",
     "output_type": "stream",
     "text": [
      "\n",
      "Requirement already satisfied: brotli in c:\\users\\alex\\appdata\\local\\programs\\python\\python310\\lib\\site-packages (1.1.0)\n",
      "Requirement already satisfied: fuzzywuzzy in c:\\users\\alex\\appdata\\local\\programs\\python\\python310\\lib\\site-packages (0.18.0)\n"
     ]
    }
   ],
   "source": [
    "# Relevant module imports and installs\n",
    "import pandas as pd\n",
    "!pip install pulp brotli fuzzywuzzy\n",
    "import pulp as plp\n",
    "import sys \n",
    "import os\n",
    "from collections import defaultdict\n",
    "from fuzzywuzzy import process"
   ]
  },
  {
   "cell_type": "code",
   "execution_count": 18,
   "metadata": {},
   "outputs": [],
   "source": [
    "solve_season = '2024-25'\n",
    "solve_gameweek = 10\n",
    "load_projections_from_file = False"
   ]
  },
  {
   "cell_type": "code",
   "execution_count": 19,
   "metadata": {},
   "outputs": [
    {
     "name": "stdout",
     "output_type": "stream",
     "text": [
      "Generated new projections.\n"
     ]
    }
   ],
   "source": [
    "# Get the absolute path to the directory containing the Python file\n",
    "module_path = os.path.abspath(os.path.join('..', '..'))\n",
    "\n",
    "# Add the directory to sys.path\n",
    "if module_path not in sys.path:\n",
    "    sys.path.append(module_path)\n",
    "\n",
    "# Now you can import the module\n",
    "from projections import generate_projections, generate_stat_projections, append_stat_projections\n",
    "\n",
    "if not load_projections_from_file:\n",
    "    point_projections = generate_projections()\n",
    "    stat_projections = generate_stat_projections()\n",
    "\n",
    "    projections_data = append_stat_projections(point_projections, stat_projections, solve_gameweek)\n",
    "    projections_data.to_csv('gameweek_projections.csv', index=False)\n",
    "    print('Generated new projections.')\n",
    "else:\n",
    "    try:\n",
    "        projections_data = pd.read_csv('gameweek_projections.csv')\n",
    "        print('Loaded projections from CSV file.')\n",
    "    except FileNotFoundError:\n",
    "        print('Tried to load from CSV file, but it does not exist. Generating new projections...')\n",
    "        point_projections = generate_projections()\n",
    "        stat_projections = generate_stat_projections()\n",
    "        projections_data = append_stat_projections(point_projections, stat_projections, solve_gameweek)"
   ]
  },
  {
   "cell_type": "code",
   "execution_count": 20,
   "metadata": {},
   "outputs": [
    {
     "name": "stdout",
     "output_type": "stream",
     "text": [
      "Up to date FBRef data exists in this directory. Loading data from CSV...\n"
     ]
    }
   ],
   "source": [
    "from fbref import fbref_main\n",
    "\n",
    "# If team_fbref_stats.csv or player_fbref_stats.csv does not exist, run the fbref_main() function\n",
    "# and save the output to team_fbref_stats.csv and player_fbref_stats.csv\n",
    "if not os.path.exists('team_fbref_stats.csv') or not os.path.exists('player_fbref_stats.csv'):\n",
    "    print('Up to date FBRef data does not exist in this directory. Retrieving new data...')\n",
    "    team_fbref_stats, player_fbref_stats = fbref_main()\n",
    "    team_fbref_stats.to_csv('team_fbref_stats.csv', index=False)\n",
    "    player_fbref_stats.to_csv('player_fbref_stats.csv', index=False)\n",
    "else:\n",
    "    print('Up to date FBRef data exists in this directory. Loading data from CSV...')\n",
    "    team_fbref_stats = pd.read_csv('team_fbref_stats.csv')\n",
    "    player_fbref_stats = pd.read_csv('player_fbref_stats.csv')\n",
    "\n",
    "# Replace where Team = 'Man Utd' with 'Manchester United' in the projections_data DataFrame\n",
    "projections_data.loc[projections_data['Team'] == 'Man Utd', 'Team'] = 'Manchester United'\n",
    "\n",
    "# Replace where Team = 'Tottenham' with 'Spurs' in the team_fbref_stats DataFrame\n",
    "team_fbref_stats.loc[team_fbref_stats['Team'] == 'Tottenham', 'Team'] = 'Spurs'\n",
    "\n",
    "# Replace where Player_Team_Name = 'Tottenham' with 'Spurs' in the player_fbref_stats DataFrame\n",
    "player_fbref_stats.loc[player_fbref_stats['Player_Team_Name'] == 'Tottenham', 'Player_Team_Name'] = 'Spurs'"
   ]
  },
  {
   "cell_type": "code",
   "execution_count": 21,
   "metadata": {},
   "outputs": [],
   "source": [
    "def fuzzy_match_name(df, df_type, search_name):\n",
    "    if df_type.lower() == 'team':\n",
    "        # Fuzzy match the 'Team' column, returning the best match\n",
    "        matches = process.extractOne(search_name, df['Team'].tolist(), score_cutoff=50)\n",
    "        if matches:\n",
    "            return matches[0]\n",
    "        else:\n",
    "            return None\n",
    "    else:\n",
    "        return None\n",
    "    \n",
    "def strip_opponent_name(opponent_name):\n",
    "    return opponent_name.split(' ')[0]\n",
    "    \n",
    "def filter_fbref_player_df_by_team(df, fpl_team_name):\n",
    "    # Find the closest matching team name using fuzzy matching in df['Player_Team_Name']\n",
    "    matches = process.extractOne(fpl_team_name, df['Player_Team_Name'].tolist(), score_cutoff=50)\n",
    "    if matches:\n",
    "        df = df[df['Player_Team_Name'] == matches[0]]\n",
    "    return df\n",
    "\n",
    "def fuzzy_match_player(player_fbref_stats, player_name, team_name):\n",
    "    # First, filter the player_fbref_stats by team\n",
    "    filtered_df = filter_fbref_player_df_by_team(player_fbref_stats, team_name)\n",
    "    \n",
    "    # Then, perform fuzzy matching on the filtered dataframe\n",
    "    matches = process.extractOne(player_name, filtered_df['Player'].tolist(), score_cutoff=50)\n",
    "    if matches:\n",
    "        return matches[0]\n",
    "    else:\n",
    "        return None\n",
    "\n",
    "def get_team_games_played(team_name):\n",
    "    team_name = fuzzy_match_name(team_fbref_stats, 'team', team_name)\n",
    "\n",
    "    if team_name == None:\n",
    "        print('MAJOR ERROR: Missing team name')\n",
    "        return 0\n",
    "\n",
    "    total_team_games_played = team_fbref_stats[team_fbref_stats['Team'] == team_name]['premier_league_matches_played'].values[0]\n",
    "    return total_team_games_played\n",
    "\n",
    "def get_team_total_fouls_won(team_name):\n",
    "    team_name = fuzzy_match_name(team_fbref_stats, 'team', team_name)\n",
    "\n",
    "    if team_name == None:\n",
    "        print('MAJOR ERROR: Missing team name')\n",
    "        return 0\n",
    "    \n",
    "    total_team_fouls_won = team_fbref_stats[team_fbref_stats['Team'] == team_name]['squad_miscellaneous_stats_Performance_Fld'].values[0]\n",
    "    return total_team_fouls_won\n",
    "\n",
    "def get_team_total_shots_on_target(team_name):\n",
    "    team_name = fuzzy_match_name(team_fbref_stats, 'team', team_name)\n",
    "\n",
    "    if team_name == None:\n",
    "        print('MAJOR ERROR: Missing team name')\n",
    "        return 0\n",
    "    \n",
    "    total_team_shots_on_target = team_fbref_stats[team_fbref_stats['Team'] == team_name]['squad_shooting_Standard_SoT'].values[0]\n",
    "    return total_team_shots_on_target\n",
    "\n",
    "def get_team_total_shots_on_target_against(team_name):\n",
    "    team_name = fuzzy_match_name(team_fbref_stats, 'team', team_name)\n",
    "\n",
    "    if team_name == None:\n",
    "        print('MAJOR ERROR: Missing team name')\n",
    "        return 0\n",
    "    \n",
    "    total_team_shots_on_target_against = team_fbref_stats[team_fbref_stats['Team'] == team_name]['squad_shooting_Standard_SoT'].values[0]\n",
    "    return total_team_shots_on_target_against\n",
    "\n",
    "def get_player_total_shots_on_target(player_name, team_name):\n",
    "    player_name = fuzzy_match_player(player_fbref_stats, player_name, team_name)\n",
    "\n",
    "    if player_name == None:\n",
    "        return 0\n",
    "    \n",
    "    total_player_shots_on_target = player_fbref_stats[player_fbref_stats['Player'] == player_name]['shooting_Standard_SoT'].values[0]\n",
    "    return total_player_shots_on_target\n",
    "\n",
    "def predict_team_shots_on_target_in_game(team_name, opponent_name):\n",
    "    team_name = fuzzy_match_name(team_fbref_stats, 'team', team_name)\n",
    "    opponent_name = fuzzy_match_name(team_fbref_stats, 'team', opponent_name)\n",
    "\n",
    "    if team_name == None or opponent_name == None:\n",
    "        print('MAJOR ERROR: Missing team or opponent name')\n",
    "        return None\n",
    "\n",
    "    team_games_played = get_team_games_played(team_name)\n",
    "    opponent_games_played = get_team_games_played(opponent_name)\n",
    "\n",
    "    team_shots_on_target_per_game = get_team_total_shots_on_target(team_name) / team_games_played\n",
    "    opponent_shots_on_target_against_per_game = get_team_total_shots_on_target_against(opponent_name) / opponent_games_played\n",
    "    \n",
    "    projected_shots_on_target = (team_shots_on_target_per_game + opponent_shots_on_target_against_per_game) / 2\n",
    "    return projected_shots_on_target\n",
    "\n",
    "def predict_player_shots_on_target_in_game_90(player_name, team_name, opponent_name):\n",
    "    player_name = fuzzy_match_player(player_fbref_stats, player_name, team_name)\n",
    "    team_name = fuzzy_match_name(team_fbref_stats, 'team', team_name)\n",
    "\n",
    "    if player_name == None:\n",
    "        return 0\n",
    "    elif team_name == None:\n",
    "        print('MAJOR ERROR: Missing team name:', team_name)\n",
    "        return None\n",
    "\n",
    "    player_team_shots_on_target_proportion = get_player_total_shots_on_target(player_name, team_name) / get_team_total_shots_on_target(team_name)\n",
    "    projected_player_shots_on_target = player_team_shots_on_target_proportion * predict_team_shots_on_target_in_game(team_name, opponent_name)\n",
    "    return round(projected_player_shots_on_target, 3)\n",
    "\n",
    "def calculate_new_xpts(xpts, projected_shots_on_target):\n",
    "    new_xpts = xpts + (projected_shots_on_target * 3)\n",
    "    return round(new_xpts, 2)"
   ]
  },
  {
   "cell_type": "code",
   "execution_count": 22,
   "metadata": {},
   "outputs": [
    {
     "name": "stdout",
     "output_type": "stream",
     "text": [
      "Appending data for: Kporha in team Crystal Palacelitedced\r"
     ]
    }
   ],
   "source": [
    "# Create projected shots on target columns and default to 0.00\n",
    "projections_data['Projected_Shots_On_Target'] = 0.000\n",
    "\n",
    "for index, row in projections_data.iterrows():\n",
    "    print(f'Appending data for: {row[\"Name\"]} in team {row[\"Team\"]}', end='\\r', flush=True)\n",
    "    player_minute_proportion = row['xMins'] / 90\n",
    "\n",
    "    projected_shots_on_target = player_minute_proportion * predict_player_shots_on_target_in_game_90(row['Name'], row['Team'], row['Opponent'])\n",
    "\n",
    "    projections_data.loc[index, 'Projected_Shots_On_Target'] = projected_shots_on_target\n",
    "\n",
    "    updated_predicted_points = calculate_new_xpts(row['Predicted_Points'], projected_shots_on_target)\n",
    "\n",
    "    projections_data.loc[index, 'Predicted_Points'] = updated_predicted_points"
   ]
  },
  {
   "cell_type": "markdown",
   "metadata": {},
   "source": [
    "### Player Manipulation"
   ]
  },
  {
   "cell_type": "markdown",
   "metadata": {},
   "source": [
    "### Player Force/Banning"
   ]
  },
  {
   "cell_type": "code",
   "execution_count": 23,
   "metadata": {},
   "outputs": [
    {
     "name": "stdout",
     "output_type": "stream",
     "text": [
      "Final ban list (indices): []\n"
     ]
    }
   ],
   "source": [
    "def fuzzy_ban_players(df, ban_ids):\n",
    "    while True:\n",
    "        search_name = input(\"Enter player name to ban (or press enter to finish): \").strip()\n",
    "        \n",
    "        if search_name.lower() == '':\n",
    "            break\n",
    "        \n",
    "        # Perform fuzzy matching with a lower score cutoff and no limit\n",
    "        matches = process.extractBests(search_name, df['Name'].tolist(), score_cutoff=50, limit=10)\n",
    "        \n",
    "        if not matches:\n",
    "            print(\"No matches found. Please try again.\")\n",
    "            continue\n",
    "        \n",
    "        # Display matches\n",
    "        print(\"Matches found:\")\n",
    "        for idx, (name, score) in enumerate(matches, 1):\n",
    "            player_index = df[df['Name'] == name].index[0]\n",
    "            player_id = df.loc[player_index, 'ID']\n",
    "            print(f\"{idx}. {name} (ID: {player_id}, Index: {player_index}, Score: {score})\")\n",
    "        \n",
    "        # Ask user to select a match\n",
    "        while True:\n",
    "            choice = input(\"Enter the number of the player to ban (or 'skip' to search again): \")\n",
    "            if choice.lower() == 'skip':\n",
    "                break\n",
    "            try:\n",
    "                choice_idx = int(choice) - 1\n",
    "                if 0 <= choice_idx < len(matches):\n",
    "                    selected_name = matches[choice_idx][0]\n",
    "                    selected_index = df[df['Name'] == selected_name].index[0]\n",
    "                    selected_id = df.loc[selected_index, 'ID']\n",
    "                    ban_ids.append(selected_index)\n",
    "                    print(f\"Banned: {selected_name} (ID: {selected_id}, Index: {selected_index})\")\n",
    "                    break\n",
    "                else:\n",
    "                    print(\"Invalid choice. Please try again.\")\n",
    "            except ValueError:\n",
    "                print(\"Invalid input. Please enter a number or 'skip'.\")\n",
    "    \n",
    "    return ban_ids\n",
    "\n",
    "ban_ids = []\n",
    "ban_ids = fuzzy_ban_players(projections_data, ban_ids)\n",
    "print(\"Final ban list (indices):\", ban_ids)"
   ]
  },
  {
   "cell_type": "code",
   "execution_count": 24,
   "metadata": {},
   "outputs": [
    {
     "name": "stdout",
     "output_type": "stream",
     "text": [
      "Final force list (indices): []\n"
     ]
    }
   ],
   "source": [
    "def fuzzy_force_players(df, force_ids):\n",
    "    while True:\n",
    "        search_name = input(\"Enter player name to force (or press enter to finish): \").strip()\n",
    "        \n",
    "        if search_name.lower() == '':\n",
    "            break\n",
    "        \n",
    "        # Perform fuzzy matching with a lower score cutoff and no limit\n",
    "        matches = process.extractBests(search_name, df['Name'].tolist(), score_cutoff=50, limit=10)\n",
    "        \n",
    "        if not matches:\n",
    "            print(\"No matches found. Please try again.\")\n",
    "            continue\n",
    "        \n",
    "        # Display matches\n",
    "        print(\"Matches found:\")\n",
    "        for idx, (name, score) in enumerate(matches, 1):\n",
    "            player_index = df[df['Name'] == name].index[0]\n",
    "            player_id = df.loc[player_index, 'ID']\n",
    "            print(f\"{idx}. {name} (ID: {player_id}, Index: {player_index}, Score: {score})\")\n",
    "        \n",
    "        # Ask user to select a match\n",
    "        while True:\n",
    "            choice = input(\"Enter the number of the player to force (or 'skip' to search again): \")\n",
    "            if choice.lower() == 'skip':\n",
    "                break\n",
    "            try:\n",
    "                choice_idx = int(choice) - 1\n",
    "                if 0 <= choice_idx < len(matches):\n",
    "                    selected_name = matches[choice_idx][0]\n",
    "                    selected_index = df[df['Name'] == selected_name].index[0]\n",
    "                    selected_id = df.loc[selected_index, 'ID']\n",
    "                    force_ids.append(selected_index)  # Add to force_ids instead of ban_ids\n",
    "                    print(f\"Forced: {selected_name} (ID: {selected_id}, Index: {selected_index})\")\n",
    "                    break\n",
    "                else:\n",
    "                    print(\"Invalid choice. Please try again.\")\n",
    "            except ValueError:\n",
    "                print(\"Invalid input. Please enter a number or 'skip'.\")\n",
    "    \n",
    "    return force_ids\n",
    "\n",
    "force_ids = []\n",
    "force_ids = fuzzy_force_players(projections_data, force_ids)\n",
    "print(\"Final force list (indices):\", force_ids)"
   ]
  },
  {
   "cell_type": "markdown",
   "metadata": {},
   "source": [
    "# 2024/25 GW11 Challenge: Accuracy - Shots on target are worth 3 points."
   ]
  },
  {
   "cell_type": "markdown",
   "metadata": {},
   "source": [
    "### Optimisation"
   ]
  },
  {
   "cell_type": "code",
   "execution_count": 27,
   "metadata": {},
   "outputs": [
    {
     "name": "stdout",
     "output_type": "stream",
     "text": [
      "Status: Optimal\n"
     ]
    }
   ],
   "source": [
    "# Get the number of players and their list of ids\n",
    "player_ids = projections_data['ID'].tolist()\n",
    "player_count = len(player_ids)\n",
    "\n",
    "# Set up the problem\n",
    "model = plp.LpProblem(\"fpl-challenge\", plp.LpMaximize)\n",
    "\n",
    "# Define the decision variables\n",
    "lineup = [\n",
    "    plp.LpVariable(f\"lineup_{i}\", lowBound=0, upBound=1, cat=\"Integer\")\n",
    "    for i in player_ids\n",
    "]\n",
    "\n",
    "# Define captain variables\n",
    "captain = [\n",
    "    plp.LpVariable(f\"captain_{i}\", lowBound=0, upBound=1, cat=\"Integer\")\n",
    "    for i in player_ids\n",
    "]\n",
    "\n",
    "# Set the objective function (the number of points scored by the team, with captain's points doubled)\n",
    "model += plp.lpSum([lineup[i] * projections_data.loc[i, 'Predicted_Points'] for i in range(player_count)]) + \\\n",
    "         plp.lpSum([captain[i] * projections_data.loc[i, 'Predicted_Points'] for i in range(player_count)])\n",
    "\n",
    "# Constraints\n",
    "\n",
    "# Total number of players = 5\n",
    "model += plp.lpSum(lineup) == 5\n",
    "\n",
    "# List players by index to be EXCLUDED from the lineup\n",
    "for id in ban_ids:\n",
    "    model += lineup[id] == 0\n",
    "\n",
    "for id in force_ids:\n",
    "    model += lineup[id] == 1\n",
    "\n",
    "# Exactly one captain\n",
    "model += plp.lpSum(captain) == 1\n",
    "\n",
    "# Captain must be in the lineup\n",
    "for i in range(player_count):\n",
    "    model += captain[i] <= lineup[i]\n",
    "\n",
    "# Exactly 1 Goalkeeper\n",
    "model += plp.lpSum([lineup[i] for i in range(player_count) if projections_data.loc[i, 'Position'] == 'Goalkeeper']) == 1\n",
    "\n",
    "# At least 1 Defender\n",
    "model += plp.lpSum([lineup[i] for i in range(player_count) if projections_data.loc[i, 'Position'] == 'Defender']) >= 1\n",
    "\n",
    "# At least 1 Midfielder\n",
    "model += plp.lpSum([lineup[i] for i in range(player_count) if projections_data.loc[i, 'Position'] == 'Midfielder']) >= 1\n",
    "\n",
    "# At least 1 Forward\n",
    "model += plp.lpSum([lineup[i] for i in range(player_count) if projections_data.loc[i, 'Position'] == 'Forward']) >= 1\n",
    "\n",
    "# No budget constraint\n",
    "# model += plp.lpSum([lineup[i] * projections_data.loc[i, 'Cost'] for i in range(player_count)]) <= 30\n",
    "\n",
    "# Solve the problem\n",
    "model.solve()\n",
    "\n",
    "# Function to print players by position\n",
    "def print_players_by_position(players_dict):\n",
    "    total_points = 0\n",
    "    total_cost = 0\n",
    "    for position in ['Goalkeeper', 'Defender', 'Midfielder', 'Forward']:\n",
    "        if position in players_dict:\n",
    "            print(f\"\\n{position}:\")\n",
    "            for player in players_dict[position]:\n",
    "                captain_str = \" (C)\" if player['Captain'] else \"\"\n",
    "                points = player['Predicted_Points'] * (2 if player['Captain'] else 1)\n",
    "                print(f\"  {player['Name']}{captain_str} - {player['Team']} - Cost: {player['Cost']}m - Predicted Points: {points}\")\n",
    "                total_points += points\n",
    "                total_cost += player['Cost']\n",
    "    print(f\"\\nTotal Predicted Points: {round(total_points, 2)}\")\n",
    "    print(f\"Total Cost: {round(total_cost, 2)}m\")\n",
    "\n",
    "# Print the results\n",
    "print(\"Status:\", plp.LpStatus[model.status])\n",
    "selected_players = defaultdict(list)\n",
    "for i in range(player_count):\n",
    "    if lineup[i].value() == 1:\n",
    "        player = projections_data.loc[i]\n",
    "        selected_players[player['Position']].append({\n",
    "            'Name': player['Name'],\n",
    "            'Team': player['Team'],\n",
    "            'Cost': player['Cost'],\n",
    "            'Predicted_Points': player['Predicted_Points'],\n",
    "            'Captain': captain[i].value() == 1\n",
    "        })\n",
    "\n",
    "print_solution = False\n",
    "if print_solution:\n",
    "    print(\"\\nOptimal Lineup:\")\n",
    "    print_players_by_position(selected_players)"
   ]
  },
  {
   "cell_type": "code",
   "execution_count": 28,
   "metadata": {},
   "outputs": [],
   "source": [
    "def print_top_scorers_by_position(projections_data):\n",
    "    for position in ['Goalkeeper', 'Defender', 'Midfielder', 'Forward']:\n",
    "        top_scorers = projections_data[projections_data['Position'] == position].nlargest(10, 'Predicted_Points')\n",
    "        print(f'Top {position}s: ')\n",
    "        display(top_scorers)\n",
    "\n",
    "if print_solution:\n",
    "    print_top_scorers_by_position(projections_data)"
   ]
  }
 ],
 "metadata": {
  "kernelspec": {
   "display_name": "Python 3",
   "language": "python",
   "name": "python3"
  },
  "language_info": {
   "codemirror_mode": {
    "name": "ipython",
    "version": 3
   },
   "file_extension": ".py",
   "mimetype": "text/x-python",
   "name": "python",
   "nbconvert_exporter": "python",
   "pygments_lexer": "ipython3",
   "version": "3.10.6"
  }
 },
 "nbformat": 4,
 "nbformat_minor": 2
}
