{
 "cells": [
  {
   "cell_type": "code",
   "execution_count": 1,
   "metadata": {},
   "outputs": [
    {
     "name": "stdout",
     "output_type": "stream",
     "text": [
      "Requirement already satisfied: pulp in c:\\users\\alex\\appdata\\local\\programs\\python\\python310\\lib\\site-packages (2.8.0)\n",
      "Requirement already satisfied: pandas in c:\\users\\alex\\appdata\\local\\programs\\python\\python310\\lib\\site-packages (2.1.4)\n",
      "Requirement already satisfied: brotli in c:\\users\\alex\\appdata\\local\\programs\\python\\python310\\lib\\site-packages (1.1.0)\n",
      "Requirement already satisfied: fuzzywuzzy in c:\\users\\alex\\appdata\\local\\programs\\python\\python310\\lib\\site-packages (0.18.0)\n",
      "Requirement already satisfied: numpy<2,>=1.22.4 in c:\\users\\alex\\appdata\\local\\programs\\python\\python310\\lib\\site-packages (from pandas) (1.26.2)\n",
      "Requirement already satisfied: pytz>=2020.1 in c:\\users\\alex\\appdata\\local\\programs\\python\\python310\\lib\\site-packages (from pandas) (2023.3.post1)\n",
      "Requirement already satisfied: tzdata>=2022.1 in c:\\users\\alex\\appdata\\local\\programs\\python\\python310\\lib\\site-packages (from pandas) (2023.3)\n",
      "Requirement already satisfied: python-dateutil>=2.8.2 in c:\\users\\alex\\appdata\\local\\programs\\python\\python310\\lib\\site-packages (from pandas) (2.8.2)\n",
      "Requirement already satisfied: six>=1.5 in c:\\users\\alex\\appdata\\local\\programs\\python\\python310\\lib\\site-packages (from python-dateutil>=2.8.2->pandas) (1.16.0)\n",
      "Note: you may need to restart the kernel to use updated packages.\n"
     ]
    },
    {
     "name": "stderr",
     "output_type": "stream",
     "text": [
      "\n",
      "[notice] A new release of pip is available: 23.0 -> 24.3.1\n",
      "[notice] To update, run: python.exe -m pip install --upgrade pip\n"
     ]
    }
   ],
   "source": [
    "# Relevant module imports and installs\n",
    "%pip install pulp pandas brotli fuzzywuzzy\n",
    "import pandas as pd\n",
    "import pulp as plp\n",
    "import sys \n",
    "import os\n",
    "from collections import defaultdict\n",
    "from fuzzywuzzy import process\n",
    "import json\n"
   ]
  },
  {
   "cell_type": "code",
   "execution_count": 2,
   "metadata": {},
   "outputs": [
    {
     "name": "stdout",
     "output_type": "stream",
     "text": [
      "Error loading gameweek 11: 404 Client Error: Not Found for url: https://raw.githubusercontent.com/vaastav/Fantasy-Premier-League/master/data/2024-25/gws/gw11.csv\n"
     ]
    }
   ],
   "source": [
    "# Get the absolute path to the directory containing the Python file\n",
    "module_path = os.path.abspath(os.path.join('..', '..'))\n",
    "\n",
    "# Add the directory to sys.path\n",
    "if module_path not in sys.path:\n",
    "    sys.path.append(module_path)\n",
    "\n",
    "# Import the data retrieval functions\n",
    "from challenge_data import get_bootstrap_static_data, get_gameweek_data, update_with_gameweek_cost\n",
    "\n",
    "# Get the actual GW11 data\n",
    "bootstrap_data = get_bootstrap_static_data()\n",
    "gw11_data = update_with_gameweek_cost(get_gameweek_data(11, bootstrap_data), '2024-25', 11)"
   ]
  },
  {
   "cell_type": "code",
   "execution_count": 3,
   "metadata": {},
   "outputs": [
    {
     "name": "stdout",
     "output_type": "stream",
     "text": [
      "Status: Optimal\n",
      "\n",
      "Optimal Lineup:\n",
      "\n",
      "Goalkeeper:\n",
      "  Pickford - Everton - Points: 11\n",
      "\n",
      "Defender:\n",
      "  Tarkowski - Everton - Points: 11\n",
      "\n",
      "Midfielder:\n",
      "  M.Salah - Liverpool - Points: 17\n",
      "  B.Fernandes (C) - Man Utd - Points: 40\n",
      "\n",
      "Forward:\n",
      "  Wissa - Brentford - Points: 19\n",
      "\n",
      "Total Points: 98\n"
     ]
    }
   ],
   "source": [
    "# Create optimization model\n",
    "model = plp.LpProblem(\"GW11_Hindsight_Optimization\", plp.LpMaximize)\n",
    "\n",
    "# Get number of players\n",
    "player_count = len(gw11_data)\n",
    "\n",
    "# Create binary variables for lineup and captain selection\n",
    "lineup = [plp.LpVariable(f\"lineup_{i}\", 0, 1, plp.LpBinary) for i in range(player_count)]\n",
    "captain = [plp.LpVariable(f\"captain_{i}\", 0, 1, plp.LpBinary) for i in range(player_count)]\n",
    "\n",
    "# Objective function: Maximize total points (double for captain)\n",
    "model += plp.lpSum([lineup[i] * gw11_data.loc[i, 'Points'] + captain[i] * gw11_data.loc[i, 'Points'] for i in range(player_count)])\n",
    "\n",
    "# Constraints\n",
    "# Exactly 5 players\n",
    "model += plp.lpSum(lineup) == 5\n",
    "\n",
    "# Exactly one captain\n",
    "model += plp.lpSum(captain) == 1\n",
    "\n",
    "# Captain must be in the lineup\n",
    "for i in range(player_count):\n",
    "    model += captain[i] <= lineup[i]\n",
    "\n",
    "# Exactly 1 Goalkeeper\n",
    "model += plp.lpSum([lineup[i] for i in range(player_count) if gw11_data.loc[i, 'Position'] == 'Goalkeeper']) == 1\n",
    "\n",
    "# At least 1 Defender\n",
    "model += plp.lpSum([lineup[i] for i in range(player_count) if gw11_data.loc[i, 'Position'] == 'Defender']) >= 1\n",
    "\n",
    "# At least 1 Midfielder\n",
    "model += plp.lpSum([lineup[i] for i in range(player_count) if gw11_data.loc[i, 'Position'] == 'Midfielder']) >= 1\n",
    "\n",
    "# At least 1 Forward\n",
    "model += plp.lpSum([lineup[i] for i in range(player_count) if gw11_data.loc[i, 'Position'] == 'Forward']) >= 1\n",
    "\n",
    "# Solve the problem\n",
    "model.solve(plp.PULP_CBC_CMD(msg=False))\n",
    "\n",
    "# Function to print players by position\n",
    "def print_players_by_position(players_dict):\n",
    "    total_points = 0\n",
    "    for position in ['Goalkeeper', 'Defender', 'Midfielder', 'Forward']:\n",
    "        if position in players_dict:\n",
    "            print(f\"\\n{position}:\")\n",
    "            for player in players_dict[position]:\n",
    "                captain_str = \" (C)\" if player['Captain'] else \"\"\n",
    "                points = player['Points'] * (2 if player['Captain'] else 1)\n",
    "                print(f\"  {player['Name']}{captain_str} - {player['Team']} - Points: {points}\")\n",
    "                total_points += points\n",
    "    print(f\"\\nTotal Points: {total_points}\")\n",
    "\n",
    "# Print the results\n",
    "print(\"Status:\", plp.LpStatus[model.status])\n",
    "\n",
    "print(\"\\nOptimal Lineup:\")\n",
    "selected_players = defaultdict(list)\n",
    "for i in range(player_count):\n",
    "    if lineup[i].value() == 1:\n",
    "        player = gw11_data.loc[i]\n",
    "        selected_players[player['Position']].append({\n",
    "            'Name': player['Name'],\n",
    "            'Team': player['Team'],\n",
    "            'Points': player['Points'],\n",
    "            'Captain': captain[i].value() == 1\n",
    "        })\n",
    "\n",
    "print_players_by_position(selected_players)"
   ]
  }
 ],
 "metadata": {
  "kernelspec": {
   "display_name": "Python 3",
   "language": "python",
   "name": "python3"
  },
  "language_info": {
   "codemirror_mode": {
    "name": "ipython",
    "version": 3
   },
   "file_extension": ".py",
   "mimetype": "text/x-python",
   "name": "python",
   "nbconvert_exporter": "python",
   "pygments_lexer": "ipython3",
   "version": "3.10.6"
  }
 },
 "nbformat": 4,
 "nbformat_minor": 2
}
