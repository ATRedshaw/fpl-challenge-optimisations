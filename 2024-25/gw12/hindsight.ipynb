{
 "cells": [
  {
   "cell_type": "code",
   "execution_count": 1,
   "metadata": {},
   "outputs": [
    {
     "name": "stdout",
     "output_type": "stream",
     "text": [
      "Requirement already satisfied: pulp in c:\\users\\alex\\appdata\\local\\programs\\python\\python310\\lib\\site-packages (2.8.0)Note: you may need to restart the kernel to use updated packages.\n",
      "\n",
      "Requirement already satisfied: pandas in c:\\users\\alex\\appdata\\local\\programs\\python\\python310\\lib\\site-packages (2.1.4)\n",
      "Requirement already satisfied: brotli in c:\\users\\alex\\appdata\\local\\programs\\python\\python310\\lib\\site-packages (1.1.0)\n",
      "Requirement already satisfied: fuzzywuzzy in c:\\users\\alex\\appdata\\local\\programs\\python\\python310\\lib\\site-packages (0.18.0)\n",
      "Requirement already satisfied: python-dateutil>=2.8.2 in c:\\users\\alex\\appdata\\local\\programs\\python\\python310\\lib\\site-packages (from pandas) (2.8.2)\n",
      "Requirement already satisfied: numpy<2,>=1.22.4 in c:\\users\\alex\\appdata\\local\\programs\\python\\python310\\lib\\site-packages (from pandas) (1.26.2)\n",
      "Requirement already satisfied: pytz>=2020.1 in c:\\users\\alex\\appdata\\local\\programs\\python\\python310\\lib\\site-packages (from pandas) (2023.3.post1)\n",
      "Requirement already satisfied: tzdata>=2022.1 in c:\\users\\alex\\appdata\\local\\programs\\python\\python310\\lib\\site-packages (from pandas) (2023.3)\n",
      "Requirement already satisfied: six>=1.5 in c:\\users\\alex\\appdata\\local\\programs\\python\\python310\\lib\\site-packages (from python-dateutil>=2.8.2->pandas) (1.16.0)\n"
     ]
    },
    {
     "name": "stderr",
     "output_type": "stream",
     "text": [
      "\n",
      "[notice] A new release of pip is available: 23.0 -> 24.3.1\n",
      "[notice] To update, run: python.exe -m pip install --upgrade pip\n"
     ]
    }
   ],
   "source": [
    "# Relevant module imports and installs\n",
    "%pip install pulp pandas brotli fuzzywuzzy\n",
    "import pandas as pd\n",
    "import pulp as plp\n",
    "import sys \n",
    "import os\n",
    "from collections import defaultdict\n",
    "from fuzzywuzzy import process\n",
    "import json"
   ]
  },
  {
   "cell_type": "code",
   "execution_count": 2,
   "metadata": {},
   "outputs": [],
   "source": [
    "# Get the absolute path to the directory containing the Python file\n",
    "module_path = os.path.abspath(os.path.join('..', '..'))\n",
    "\n",
    "# Add the directory to sys.path\n",
    "if module_path not in sys.path:\n",
    "    sys.path.append(module_path)\n",
    "\n",
    "# Import the data retrieval functions\n",
    "from challenge_data import get_bootstrap_static_data, get_gameweek_data, update_with_gameweek_cost\n",
    "\n",
    "# Get the actual GW12 data\n",
    "bootstrap_data = get_bootstrap_static_data()\n",
    "gw12_data = update_with_gameweek_cost(get_gameweek_data(12, bootstrap_data), '2024-25', 12)"
   ]
  },
  {
   "cell_type": "code",
   "execution_count": 3,
   "metadata": {},
   "outputs": [
    {
     "name": "stdout",
     "output_type": "stream",
     "text": [
      "Status: Optimal\n",
      "\n",
      "Optimal Lineup:\n",
      "\n",
      "Goalkeeper:\n",
      "  Flekken - Brentford - Cost: 4.5m - Points: 9\n",
      "\n",
      "Defender:\n",
      "  Wan-Bissaka - West Ham - Cost: 4.4m - Points: 15\n",
      "  Pedro Porro - Spurs - Cost: 5.5m - Points: 14\n",
      "\n",
      "Midfielder:\n",
      "  Saka - Arsenal - Cost: 10.1m - Points: 13\n",
      "  Maddison (C) - Spurs - Cost: 7.5m - Points: 32\n",
      "  I.Sarr - Crystal Palace - Cost: 5.7m - Points: 13\n",
      "\n",
      "Forward:\n",
      "  Cunha - Wolves - Cost: 6.8m - Points: 16\n",
      "\n",
      "Total Points: 112\n",
      "Total Cost: 44.5m\n"
     ]
    }
   ],
   "source": [
    "# Create optimization model\n",
    "model = plp.LpProblem(\"GW12_Hindsight_Optimization\", plp.LpMaximize)\n",
    "\n",
    "# Get number of players\n",
    "player_count = len(gw12_data)\n",
    "\n",
    "# Create binary variables for lineup and captain selection\n",
    "lineup = [plp.LpVariable(f\"lineup_{i}\", 0, 1, plp.LpBinary) for i in range(player_count)]\n",
    "captain = [plp.LpVariable(f\"captain_{i}\", 0, 1, plp.LpBinary) for i in range(player_count)]\n",
    "\n",
    "# Objective function: Maximize total points (double for captain)\n",
    "model += plp.lpSum([lineup[i] * gw12_data.loc[i, 'Points'] + captain[i] * gw12_data.loc[i, 'Points'] for i in range(player_count)])\n",
    "\n",
    "# Constraints\n",
    "# Exactly 7 players\n",
    "model += plp.lpSum(lineup) == 7\n",
    "\n",
    "# Exactly one captain\n",
    "model += plp.lpSum(captain) == 1\n",
    "\n",
    "# Captain must be in the lineup\n",
    "for i in range(player_count):\n",
    "    model += captain[i] <= lineup[i]\n",
    "\n",
    "# Exactly 1 Goalkeeper\n",
    "model += plp.lpSum([lineup[i] for i in range(player_count) if gw12_data.loc[i, 'Position'] == 'Goalkeeper']) == 1\n",
    "\n",
    "# Between 2-3 Defenders\n",
    "model += plp.lpSum([lineup[i] for i in range(player_count) if gw12_data.loc[i, 'Position'] == 'Defender']) >= 2\n",
    "model += plp.lpSum([lineup[i] for i in range(player_count) if gw12_data.loc[i, 'Position'] == 'Defender']) <= 3\n",
    "\n",
    "# Between 1-3 Midfielders\n",
    "model += plp.lpSum([lineup[i] for i in range(player_count) if gw12_data.loc[i, 'Position'] == 'Midfielder']) >= 1\n",
    "model += plp.lpSum([lineup[i] for i in range(player_count) if gw12_data.loc[i, 'Position'] == 'Midfielder']) <= 3\n",
    "\n",
    "# Between 1-3 Forwards\n",
    "model += plp.lpSum([lineup[i] for i in range(player_count) if gw12_data.loc[i, 'Position'] == 'Forward']) >= 1\n",
    "model += plp.lpSum([lineup[i] for i in range(player_count) if gw12_data.loc[i, 'Position'] == 'Forward']) <= 3\n",
    "\n",
    "# Budget constraint of £45m\n",
    "model += plp.lpSum([lineup[i] * gw12_data.loc[i, 'Cost'] for i in range(player_count)]) <= 45\n",
    "\n",
    "# Solve the problem\n",
    "model.solve(plp.PULP_CBC_CMD(msg=False))\n",
    "\n",
    "# Function to print players by position\n",
    "def print_players_by_position(players_dict):\n",
    "    total_points = 0\n",
    "    total_cost = 0\n",
    "    for position in ['Goalkeeper', 'Defender', 'Midfielder', 'Forward']:\n",
    "        if position in players_dict:\n",
    "            print(f\"\\n{position}:\")\n",
    "            for player in players_dict[position]:\n",
    "                captain_str = \" (C)\" if player['Captain'] else \"\"\n",
    "                points = player['Points'] * (2 if player['Captain'] else 1)\n",
    "                print(f\"  {player['Name']}{captain_str} - {player['Team']} - Cost: {player['Cost']}m - Points: {points}\")\n",
    "                total_points += points\n",
    "                total_cost += player['Cost']\n",
    "    print(f\"\\nTotal Points: {round(total_points, 2)}\")\n",
    "    print(f\"Total Cost: {round(total_cost, 2)}m\")\n",
    "\n",
    "# Print the results\n",
    "print(\"Status:\", plp.LpStatus[model.status])\n",
    "\n",
    "print(\"\\nOptimal Lineup:\")\n",
    "selected_players = defaultdict(list)\n",
    "for i in range(player_count):\n",
    "    if lineup[i].value() == 1:\n",
    "        player = gw12_data.loc[i]\n",
    "        selected_players[player['Position']].append({\n",
    "            'Name': player['Name'],\n",
    "            'Team': player['Team'],\n",
    "            'Cost': player['Cost'],\n",
    "            'Points': player['Points'],\n",
    "            'Captain': captain[i].value() == 1\n",
    "        })\n",
    "\n",
    "print_players_by_position(selected_players)\n"
   ]
  }
 ],
 "metadata": {
  "kernelspec": {
   "display_name": "Python 3",
   "language": "python",
   "name": "python3"
  },
  "language_info": {
   "codemirror_mode": {
    "name": "ipython",
    "version": 3
   },
   "file_extension": ".py",
   "mimetype": "text/x-python",
   "name": "python",
   "nbconvert_exporter": "python",
   "pygments_lexer": "ipython3",
   "version": "3.10.6"
  }
 },
 "nbformat": 4,
 "nbformat_minor": 2
}
