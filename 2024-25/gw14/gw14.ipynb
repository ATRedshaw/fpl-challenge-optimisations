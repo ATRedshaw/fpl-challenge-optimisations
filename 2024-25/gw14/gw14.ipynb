{
 "cells": [
  {
   "cell_type": "code",
   "execution_count": 13,
   "metadata": {},
   "outputs": [
    {
     "name": "stdout",
     "output_type": "stream",
     "text": [
      "Requirement already satisfied: pulp in c:\\users\\alex\\appdata\\local\\programs\\python\\python310\\lib\\site-packages (2.8.0)\n",
      "Requirement already satisfied: brotli in c:\\users\\alex\\appdata\\local\\programs\\python\\python310\\lib\\site-packages (1.1.0)\n",
      "Requirement already satisfied: fuzzywuzzy in c:\\users\\alex\\appdata\\local\\programs\\python\\python310\\lib\\site-packages (0.18.0)\n"
     ]
    },
    {
     "name": "stderr",
     "output_type": "stream",
     "text": [
      "\n",
      "[notice] A new release of pip is available: 23.0 -> 24.3.1\n",
      "[notice] To update, run: python.exe -m pip install --upgrade pip\n"
     ]
    }
   ],
   "source": [
    "# Relevant module imports and installs\n",
    "import pandas as pd\n",
    "!pip install pulp brotli fuzzywuzzy\n",
    "import pulp as plp\n",
    "import sys \n",
    "import os\n",
    "from collections import defaultdict\n",
    "from fuzzywuzzy import process\n",
    "import time"
   ]
  },
  {
   "cell_type": "code",
   "execution_count": 14,
   "metadata": {},
   "outputs": [],
   "source": [
    "solve_season = '2024-25'\n",
    "solve_gameweek = 14\n",
    "load_projections_from_file = True"
   ]
  },
  {
   "cell_type": "code",
   "execution_count": 15,
   "metadata": {},
   "outputs": [
    {
     "name": "stdout",
     "output_type": "stream",
     "text": [
      "Loaded projections from CSV file.\n"
     ]
    }
   ],
   "source": [
    "# Get the absolute path to the directory containing the Python file\n",
    "module_path = os.path.abspath(os.path.join('..', '..'))\n",
    "\n",
    "# Add the directory to sys.path\n",
    "if module_path not in sys.path:\n",
    "    sys.path.append(module_path)\n",
    "\n",
    "# Now you can import the module\n",
    "from projections import generate_projections, generate_stat_projections, append_stat_projections\n",
    "\n",
    "if not load_projections_from_file:\n",
    "    point_projections = generate_projections()\n",
    "    stat_projections = generate_stat_projections()\n",
    "\n",
    "    projections_data = append_stat_projections(point_projections, stat_projections, solve_gameweek)\n",
    "    print('Generated new projections.')\n",
    "else:\n",
    "    try:\n",
    "        projections_data = pd.read_csv('gameweek_projections.csv')\n",
    "        print('Loaded projections from CSV file.')\n",
    "    except FileNotFoundError:\n",
    "        print('Tried to load from CSV file, but it does not exist. Generating new projections...')\n",
    "        point_projections = generate_projections()\n",
    "        stat_projections = generate_stat_projections()\n",
    "        projections_data = append_stat_projections(point_projections, stat_projections, solve_gameweek)"
   ]
  },
  {
   "cell_type": "markdown",
   "metadata": {},
   "source": [
    "### Player Manipulation"
   ]
  },
  {
   "cell_type": "markdown",
   "metadata": {},
   "source": [
    "### Player Force/Banning"
   ]
  },
  {
   "cell_type": "code",
   "execution_count": 16,
   "metadata": {},
   "outputs": [
    {
     "name": "stdout",
     "output_type": "stream",
     "text": [
      "Final ban list (indices): []\n"
     ]
    }
   ],
   "source": [
    "def fuzzy_ban_players(df, ban_ids):\n",
    "    while True:\n",
    "        search_name = input(\"Enter player name to ban (or press enter to finish): \").strip()\n",
    "        \n",
    "        if search_name.lower() == '':\n",
    "            break\n",
    "        \n",
    "        # Perform fuzzy matching with a lower score cutoff and no limit\n",
    "        matches = process.extractBests(search_name, df['Name'].tolist(), score_cutoff=50, limit=10)\n",
    "        \n",
    "        if not matches:\n",
    "            print(\"No matches found. Please try again.\")\n",
    "            continue\n",
    "        \n",
    "        # Display matches\n",
    "        print(\"Matches found:\")\n",
    "        for idx, (name, score) in enumerate(matches, 1):\n",
    "            player_index = df[df['Name'] == name].index[0]\n",
    "            player_id = df.loc[player_index, 'ID']\n",
    "            print(f\"{idx}. {name} (ID: {player_id}, Index: {player_index}, Score: {score})\")\n",
    "        \n",
    "        # Ask user to select a match\n",
    "        while True:\n",
    "            choice = input(\"Enter the number of the player to ban (or 'skip' to search again): \")\n",
    "            if choice.lower() == 'skip':\n",
    "                break\n",
    "            try:\n",
    "                choice_idx = int(choice) - 1\n",
    "                if 0 <= choice_idx < len(matches):\n",
    "                    selected_name = matches[choice_idx][0]\n",
    "                    selected_index = df[df['Name'] == selected_name].index[0]\n",
    "                    selected_id = df.loc[selected_index, 'ID']\n",
    "                    ban_ids.append(selected_index)\n",
    "                    print(f\"Banned: {selected_name} (ID: {selected_id}, Index: {selected_index})\")\n",
    "                    break\n",
    "                else:\n",
    "                    print(\"Invalid choice. Please try again.\")\n",
    "            except ValueError:\n",
    "                print(\"Invalid input. Please enter a number or 'skip'.\")\n",
    "    \n",
    "    return ban_ids\n",
    "\n",
    "ban_ids = []\n",
    "ban_ids = fuzzy_ban_players(projections_data, ban_ids)\n",
    "print(\"Final ban list (indices):\", ban_ids)"
   ]
  },
  {
   "cell_type": "code",
   "execution_count": 17,
   "metadata": {},
   "outputs": [
    {
     "name": "stdout",
     "output_type": "stream",
     "text": [
      "Final force list (indices): []\n"
     ]
    }
   ],
   "source": [
    "def fuzzy_force_players(df, force_ids):\n",
    "    while True:\n",
    "        search_name = input(\"Enter player name to force (or press enter to finish): \").strip()\n",
    "        \n",
    "        if search_name.lower() == '':\n",
    "            break\n",
    "        \n",
    "        # Perform fuzzy matching with a lower score cutoff and no limit\n",
    "        matches = process.extractBests(search_name, df['Name'].tolist(), score_cutoff=50, limit=10)\n",
    "        \n",
    "        if not matches:\n",
    "            print(\"No matches found. Please try again.\")\n",
    "            continue\n",
    "        \n",
    "        # Display matches\n",
    "        print(\"Matches found:\")\n",
    "        for idx, (name, score) in enumerate(matches, 1):\n",
    "            player_index = df[df['Name'] == name].index[0]\n",
    "            player_id = df.loc[player_index, 'ID']\n",
    "            print(f\"{idx}. {name} (ID: {player_id}, Index: {player_index}, Score: {score})\")\n",
    "        \n",
    "        # Ask user to select a match\n",
    "        while True:\n",
    "            choice = input(\"Enter the number of the player to force (or 'skip' to search again): \")\n",
    "            if choice.lower() == 'skip':\n",
    "                break\n",
    "            try:\n",
    "                choice_idx = int(choice) - 1\n",
    "                if 0 <= choice_idx < len(matches):\n",
    "                    selected_name = matches[choice_idx][0]\n",
    "                    selected_index = df[df['Name'] == selected_name].index[0]\n",
    "                    selected_id = df.loc[selected_index, 'ID']\n",
    "                    force_ids.append(selected_index)  # Add to force_ids instead of ban_ids\n",
    "                    print(f\"Forced: {selected_name} (ID: {selected_id}, Index: {selected_index})\")\n",
    "                    break\n",
    "                else:\n",
    "                    print(\"Invalid choice. Please try again.\")\n",
    "            except ValueError:\n",
    "                print(\"Invalid input. Please enter a number or 'skip'.\")\n",
    "    \n",
    "    return force_ids\n",
    "\n",
    "force_ids = []\n",
    "force_ids = fuzzy_force_players(projections_data, force_ids)\n",
    "print(\"Final force list (indices):\", force_ids)"
   ]
  },
  {
   "cell_type": "markdown",
   "metadata": {},
   "source": [
    "# 2024/25 GW14 Challenge: Red Hot Deal - Man United players earn double points"
   ]
  },
  {
   "cell_type": "code",
   "execution_count": 18,
   "metadata": {},
   "outputs": [
    {
     "ename": "KeyError",
     "evalue": "'Predicted_Points'",
     "output_type": "error",
     "traceback": [
      "\u001b[1;31m---------------------------------------------------------------------------\u001b[0m",
      "\u001b[1;31mKeyError\u001b[0m                                  Traceback (most recent call last)",
      "File \u001b[1;32mc:\\Users\\Alex\\AppData\\Local\\Programs\\Python\\Python310\\lib\\site-packages\\pandas\\core\\indexes\\base.py:3791\u001b[0m, in \u001b[0;36mIndex.get_loc\u001b[1;34m(self, key)\u001b[0m\n\u001b[0;32m   3790\u001b[0m \u001b[38;5;28;01mtry\u001b[39;00m:\n\u001b[1;32m-> 3791\u001b[0m     \u001b[38;5;28;01mreturn\u001b[39;00m \u001b[38;5;28;43mself\u001b[39;49m\u001b[38;5;241;43m.\u001b[39;49m\u001b[43m_engine\u001b[49m\u001b[38;5;241;43m.\u001b[39;49m\u001b[43mget_loc\u001b[49m\u001b[43m(\u001b[49m\u001b[43mcasted_key\u001b[49m\u001b[43m)\u001b[49m\n\u001b[0;32m   3792\u001b[0m \u001b[38;5;28;01mexcept\u001b[39;00m \u001b[38;5;167;01mKeyError\u001b[39;00m \u001b[38;5;28;01mas\u001b[39;00m err:\n",
      "File \u001b[1;32mindex.pyx:152\u001b[0m, in \u001b[0;36mpandas._libs.index.IndexEngine.get_loc\u001b[1;34m()\u001b[0m\n",
      "File \u001b[1;32mindex.pyx:181\u001b[0m, in \u001b[0;36mpandas._libs.index.IndexEngine.get_loc\u001b[1;34m()\u001b[0m\n",
      "File \u001b[1;32mpandas\\_libs\\hashtable_class_helper.pxi:7080\u001b[0m, in \u001b[0;36mpandas._libs.hashtable.PyObjectHashTable.get_item\u001b[1;34m()\u001b[0m\n",
      "File \u001b[1;32mpandas\\_libs\\hashtable_class_helper.pxi:7088\u001b[0m, in \u001b[0;36mpandas._libs.hashtable.PyObjectHashTable.get_item\u001b[1;34m()\u001b[0m\n",
      "\u001b[1;31mKeyError\u001b[0m: 'Predicted_Points'",
      "\nThe above exception was the direct cause of the following exception:\n",
      "\u001b[1;31mKeyError\u001b[0m                                  Traceback (most recent call last)",
      "Cell \u001b[1;32mIn[18], line 3\u001b[0m\n\u001b[0;32m      1\u001b[0m \u001b[38;5;66;03m# Double points for Man United players\u001b[39;00m\n\u001b[0;32m      2\u001b[0m double_points_teams \u001b[38;5;241m=\u001b[39m [\u001b[38;5;124m'\u001b[39m\u001b[38;5;124mMan Utd\u001b[39m\u001b[38;5;124m'\u001b[39m]\n\u001b[1;32m----> 3\u001b[0m projections_data\u001b[38;5;241m.\u001b[39mloc[projections_data[\u001b[38;5;124m'\u001b[39m\u001b[38;5;124mTeam\u001b[39m\u001b[38;5;124m'\u001b[39m]\u001b[38;5;241m.\u001b[39misin(double_points_teams), \u001b[38;5;124m'\u001b[39m\u001b[38;5;124mPredicted_Points\u001b[39m\u001b[38;5;124m'\u001b[39m] \u001b[38;5;241m*\u001b[39m\u001b[38;5;241m=\u001b[39m \u001b[38;5;241m2\u001b[39m\n",
      "File \u001b[1;32mc:\\Users\\Alex\\AppData\\Local\\Programs\\Python\\Python310\\lib\\site-packages\\pandas\\core\\indexing.py:1147\u001b[0m, in \u001b[0;36m_LocationIndexer.__getitem__\u001b[1;34m(self, key)\u001b[0m\n\u001b[0;32m   1145\u001b[0m     \u001b[38;5;28;01mif\u001b[39;00m \u001b[38;5;28mself\u001b[39m\u001b[38;5;241m.\u001b[39m_is_scalar_access(key):\n\u001b[0;32m   1146\u001b[0m         \u001b[38;5;28;01mreturn\u001b[39;00m \u001b[38;5;28mself\u001b[39m\u001b[38;5;241m.\u001b[39mobj\u001b[38;5;241m.\u001b[39m_get_value(\u001b[38;5;241m*\u001b[39mkey, takeable\u001b[38;5;241m=\u001b[39m\u001b[38;5;28mself\u001b[39m\u001b[38;5;241m.\u001b[39m_takeable)\n\u001b[1;32m-> 1147\u001b[0m     \u001b[38;5;28;01mreturn\u001b[39;00m \u001b[38;5;28;43mself\u001b[39;49m\u001b[38;5;241;43m.\u001b[39;49m\u001b[43m_getitem_tuple\u001b[49m\u001b[43m(\u001b[49m\u001b[43mkey\u001b[49m\u001b[43m)\u001b[49m\n\u001b[0;32m   1148\u001b[0m \u001b[38;5;28;01melse\u001b[39;00m:\n\u001b[0;32m   1149\u001b[0m     \u001b[38;5;66;03m# we by definition only have the 0th axis\u001b[39;00m\n\u001b[0;32m   1150\u001b[0m     axis \u001b[38;5;241m=\u001b[39m \u001b[38;5;28mself\u001b[39m\u001b[38;5;241m.\u001b[39maxis \u001b[38;5;129;01mor\u001b[39;00m \u001b[38;5;241m0\u001b[39m\n",
      "File \u001b[1;32mc:\\Users\\Alex\\AppData\\Local\\Programs\\Python\\Python310\\lib\\site-packages\\pandas\\core\\indexing.py:1330\u001b[0m, in \u001b[0;36m_LocIndexer._getitem_tuple\u001b[1;34m(self, tup)\u001b[0m\n\u001b[0;32m   1328\u001b[0m \u001b[38;5;28;01mwith\u001b[39;00m suppress(IndexingError):\n\u001b[0;32m   1329\u001b[0m     tup \u001b[38;5;241m=\u001b[39m \u001b[38;5;28mself\u001b[39m\u001b[38;5;241m.\u001b[39m_expand_ellipsis(tup)\n\u001b[1;32m-> 1330\u001b[0m     \u001b[38;5;28;01mreturn\u001b[39;00m \u001b[38;5;28;43mself\u001b[39;49m\u001b[38;5;241;43m.\u001b[39;49m\u001b[43m_getitem_lowerdim\u001b[49m\u001b[43m(\u001b[49m\u001b[43mtup\u001b[49m\u001b[43m)\u001b[49m\n\u001b[0;32m   1332\u001b[0m \u001b[38;5;66;03m# no multi-index, so validate all of the indexers\u001b[39;00m\n\u001b[0;32m   1333\u001b[0m tup \u001b[38;5;241m=\u001b[39m \u001b[38;5;28mself\u001b[39m\u001b[38;5;241m.\u001b[39m_validate_tuple_indexer(tup)\n",
      "File \u001b[1;32mc:\\Users\\Alex\\AppData\\Local\\Programs\\Python\\Python310\\lib\\site-packages\\pandas\\core\\indexing.py:1039\u001b[0m, in \u001b[0;36m_LocationIndexer._getitem_lowerdim\u001b[1;34m(self, tup)\u001b[0m\n\u001b[0;32m   1035\u001b[0m \u001b[38;5;28;01mfor\u001b[39;00m i, key \u001b[38;5;129;01min\u001b[39;00m \u001b[38;5;28menumerate\u001b[39m(tup):\n\u001b[0;32m   1036\u001b[0m     \u001b[38;5;28;01mif\u001b[39;00m is_label_like(key):\n\u001b[0;32m   1037\u001b[0m         \u001b[38;5;66;03m# We don't need to check for tuples here because those are\u001b[39;00m\n\u001b[0;32m   1038\u001b[0m         \u001b[38;5;66;03m#  caught by the _is_nested_tuple_indexer check above.\u001b[39;00m\n\u001b[1;32m-> 1039\u001b[0m         section \u001b[38;5;241m=\u001b[39m \u001b[38;5;28;43mself\u001b[39;49m\u001b[38;5;241;43m.\u001b[39;49m\u001b[43m_getitem_axis\u001b[49m\u001b[43m(\u001b[49m\u001b[43mkey\u001b[49m\u001b[43m,\u001b[49m\u001b[43m \u001b[49m\u001b[43maxis\u001b[49m\u001b[38;5;241;43m=\u001b[39;49m\u001b[43mi\u001b[49m\u001b[43m)\u001b[49m\n\u001b[0;32m   1041\u001b[0m         \u001b[38;5;66;03m# We should never have a scalar section here, because\u001b[39;00m\n\u001b[0;32m   1042\u001b[0m         \u001b[38;5;66;03m#  _getitem_lowerdim is only called after a check for\u001b[39;00m\n\u001b[0;32m   1043\u001b[0m         \u001b[38;5;66;03m#  is_scalar_access, which that would be.\u001b[39;00m\n\u001b[0;32m   1044\u001b[0m         \u001b[38;5;28;01mif\u001b[39;00m section\u001b[38;5;241m.\u001b[39mndim \u001b[38;5;241m==\u001b[39m \u001b[38;5;28mself\u001b[39m\u001b[38;5;241m.\u001b[39mndim:\n\u001b[0;32m   1045\u001b[0m             \u001b[38;5;66;03m# we're in the middle of slicing through a MultiIndex\u001b[39;00m\n\u001b[0;32m   1046\u001b[0m             \u001b[38;5;66;03m# revise the key wrt to `section` by inserting an _NS\u001b[39;00m\n",
      "File \u001b[1;32mc:\\Users\\Alex\\AppData\\Local\\Programs\\Python\\Python310\\lib\\site-packages\\pandas\\core\\indexing.py:1393\u001b[0m, in \u001b[0;36m_LocIndexer._getitem_axis\u001b[1;34m(self, key, axis)\u001b[0m\n\u001b[0;32m   1391\u001b[0m \u001b[38;5;66;03m# fall thru to straight lookup\u001b[39;00m\n\u001b[0;32m   1392\u001b[0m \u001b[38;5;28mself\u001b[39m\u001b[38;5;241m.\u001b[39m_validate_key(key, axis)\n\u001b[1;32m-> 1393\u001b[0m \u001b[38;5;28;01mreturn\u001b[39;00m \u001b[38;5;28;43mself\u001b[39;49m\u001b[38;5;241;43m.\u001b[39;49m\u001b[43m_get_label\u001b[49m\u001b[43m(\u001b[49m\u001b[43mkey\u001b[49m\u001b[43m,\u001b[49m\u001b[43m \u001b[49m\u001b[43maxis\u001b[49m\u001b[38;5;241;43m=\u001b[39;49m\u001b[43maxis\u001b[49m\u001b[43m)\u001b[49m\n",
      "File \u001b[1;32mc:\\Users\\Alex\\AppData\\Local\\Programs\\Python\\Python310\\lib\\site-packages\\pandas\\core\\indexing.py:1343\u001b[0m, in \u001b[0;36m_LocIndexer._get_label\u001b[1;34m(self, label, axis)\u001b[0m\n\u001b[0;32m   1341\u001b[0m \u001b[38;5;28;01mdef\u001b[39;00m \u001b[38;5;21m_get_label\u001b[39m(\u001b[38;5;28mself\u001b[39m, label, axis: AxisInt):\n\u001b[0;32m   1342\u001b[0m     \u001b[38;5;66;03m# GH#5567 this will fail if the label is not present in the axis.\u001b[39;00m\n\u001b[1;32m-> 1343\u001b[0m     \u001b[38;5;28;01mreturn\u001b[39;00m \u001b[38;5;28;43mself\u001b[39;49m\u001b[38;5;241;43m.\u001b[39;49m\u001b[43mobj\u001b[49m\u001b[38;5;241;43m.\u001b[39;49m\u001b[43mxs\u001b[49m\u001b[43m(\u001b[49m\u001b[43mlabel\u001b[49m\u001b[43m,\u001b[49m\u001b[43m \u001b[49m\u001b[43maxis\u001b[49m\u001b[38;5;241;43m=\u001b[39;49m\u001b[43maxis\u001b[49m\u001b[43m)\u001b[49m\n",
      "File \u001b[1;32mc:\\Users\\Alex\\AppData\\Local\\Programs\\Python\\Python310\\lib\\site-packages\\pandas\\core\\generic.py:4222\u001b[0m, in \u001b[0;36mNDFrame.xs\u001b[1;34m(self, key, axis, level, drop_level)\u001b[0m\n\u001b[0;32m   4220\u001b[0m \u001b[38;5;28;01mif\u001b[39;00m axis \u001b[38;5;241m==\u001b[39m \u001b[38;5;241m1\u001b[39m:\n\u001b[0;32m   4221\u001b[0m     \u001b[38;5;28;01mif\u001b[39;00m drop_level:\n\u001b[1;32m-> 4222\u001b[0m         \u001b[38;5;28;01mreturn\u001b[39;00m \u001b[38;5;28;43mself\u001b[39;49m\u001b[43m[\u001b[49m\u001b[43mkey\u001b[49m\u001b[43m]\u001b[49m\n\u001b[0;32m   4223\u001b[0m     index \u001b[38;5;241m=\u001b[39m \u001b[38;5;28mself\u001b[39m\u001b[38;5;241m.\u001b[39mcolumns\n\u001b[0;32m   4224\u001b[0m \u001b[38;5;28;01melse\u001b[39;00m:\n",
      "File \u001b[1;32mc:\\Users\\Alex\\AppData\\Local\\Programs\\Python\\Python310\\lib\\site-packages\\pandas\\core\\frame.py:3893\u001b[0m, in \u001b[0;36mDataFrame.__getitem__\u001b[1;34m(self, key)\u001b[0m\n\u001b[0;32m   3891\u001b[0m \u001b[38;5;28;01mif\u001b[39;00m \u001b[38;5;28mself\u001b[39m\u001b[38;5;241m.\u001b[39mcolumns\u001b[38;5;241m.\u001b[39mnlevels \u001b[38;5;241m>\u001b[39m \u001b[38;5;241m1\u001b[39m:\n\u001b[0;32m   3892\u001b[0m     \u001b[38;5;28;01mreturn\u001b[39;00m \u001b[38;5;28mself\u001b[39m\u001b[38;5;241m.\u001b[39m_getitem_multilevel(key)\n\u001b[1;32m-> 3893\u001b[0m indexer \u001b[38;5;241m=\u001b[39m \u001b[38;5;28;43mself\u001b[39;49m\u001b[38;5;241;43m.\u001b[39;49m\u001b[43mcolumns\u001b[49m\u001b[38;5;241;43m.\u001b[39;49m\u001b[43mget_loc\u001b[49m\u001b[43m(\u001b[49m\u001b[43mkey\u001b[49m\u001b[43m)\u001b[49m\n\u001b[0;32m   3894\u001b[0m \u001b[38;5;28;01mif\u001b[39;00m is_integer(indexer):\n\u001b[0;32m   3895\u001b[0m     indexer \u001b[38;5;241m=\u001b[39m [indexer]\n",
      "File \u001b[1;32mc:\\Users\\Alex\\AppData\\Local\\Programs\\Python\\Python310\\lib\\site-packages\\pandas\\core\\indexes\\base.py:3798\u001b[0m, in \u001b[0;36mIndex.get_loc\u001b[1;34m(self, key)\u001b[0m\n\u001b[0;32m   3793\u001b[0m     \u001b[38;5;28;01mif\u001b[39;00m \u001b[38;5;28misinstance\u001b[39m(casted_key, \u001b[38;5;28mslice\u001b[39m) \u001b[38;5;129;01mor\u001b[39;00m (\n\u001b[0;32m   3794\u001b[0m         \u001b[38;5;28misinstance\u001b[39m(casted_key, abc\u001b[38;5;241m.\u001b[39mIterable)\n\u001b[0;32m   3795\u001b[0m         \u001b[38;5;129;01mand\u001b[39;00m \u001b[38;5;28many\u001b[39m(\u001b[38;5;28misinstance\u001b[39m(x, \u001b[38;5;28mslice\u001b[39m) \u001b[38;5;28;01mfor\u001b[39;00m x \u001b[38;5;129;01min\u001b[39;00m casted_key)\n\u001b[0;32m   3796\u001b[0m     ):\n\u001b[0;32m   3797\u001b[0m         \u001b[38;5;28;01mraise\u001b[39;00m InvalidIndexError(key)\n\u001b[1;32m-> 3798\u001b[0m     \u001b[38;5;28;01mraise\u001b[39;00m \u001b[38;5;167;01mKeyError\u001b[39;00m(key) \u001b[38;5;28;01mfrom\u001b[39;00m \u001b[38;5;21;01merr\u001b[39;00m\n\u001b[0;32m   3799\u001b[0m \u001b[38;5;28;01mexcept\u001b[39;00m \u001b[38;5;167;01mTypeError\u001b[39;00m:\n\u001b[0;32m   3800\u001b[0m     \u001b[38;5;66;03m# If we have a listlike key, _check_indexing_error will raise\u001b[39;00m\n\u001b[0;32m   3801\u001b[0m     \u001b[38;5;66;03m#  InvalidIndexError. Otherwise we fall through and re-raise\u001b[39;00m\n\u001b[0;32m   3802\u001b[0m     \u001b[38;5;66;03m#  the TypeError.\u001b[39;00m\n\u001b[0;32m   3803\u001b[0m     \u001b[38;5;28mself\u001b[39m\u001b[38;5;241m.\u001b[39m_check_indexing_error(key)\n",
      "\u001b[1;31mKeyError\u001b[0m: 'Predicted_Points'"
     ]
    }
   ],
   "source": [
    "# Double points for Man United players\n",
    "double_points_teams = ['Man Utd']\n",
    "projections_data.loc[projections_data['Team'].isin(double_points_teams), 'Predicted_Points'] *= 2"
   ]
  },
  {
   "cell_type": "markdown",
   "metadata": {},
   "source": [
    "### Optimisation"
   ]
  },
  {
   "cell_type": "code",
   "execution_count": 26,
   "metadata": {},
   "outputs": [
    {
     "name": "stdout",
     "output_type": "stream",
     "text": [
      "Status: Optimal\n"
     ]
    }
   ],
   "source": [
    "# Get the number of players and their list of ids\n",
    "player_ids = projections_data['ID'].tolist()\n",
    "player_count = len(player_ids)\n",
    "\n",
    "# Set up the problem\n",
    "model = plp.LpProblem(\"fpl-challenge\", plp.LpMaximize)\n",
    "\n",
    "# Define the decision variables\n",
    "lineup = [\n",
    "    plp.LpVariable(f\"lineup_{i}\", lowBound=0, upBound=1, cat=\"Integer\")\n",
    "    for i in player_ids\n",
    "]\n",
    "\n",
    "# Define captain variables\n",
    "captain = [\n",
    "    plp.LpVariable(f\"captain_{i}\", lowBound=0, upBound=1, cat=\"Integer\")\n",
    "    for i in player_ids\n",
    "]\n",
    "\n",
    "# Set the objective function (the number of points scored by the team, with captain's points doubled)\n",
    "model += plp.lpSum([lineup[i] * projections_data.loc[i, 'Predicted_Points'] for i in range(player_count)]) + \\\n",
    "         plp.lpSum([captain[i] * projections_data.loc[i, 'Predicted_Points'] for i in range(player_count)])\n",
    "\n",
    "# Constraints\n",
    "\n",
    "# Total number of players = 11\n",
    "model += plp.lpSum(lineup) == 11\n",
    "\n",
    "# List players by index to be EXCLUDED from the lineup\n",
    "for id in ban_ids:\n",
    "    model += lineup[id] == 0\n",
    "\n",
    "for id in force_ids:\n",
    "    model += lineup[id] == 1\n",
    "\n",
    "# Exactly one captain\n",
    "model += plp.lpSum(captain) == 1\n",
    "\n",
    "# Captain must be in the lineup\n",
    "for i in range(player_count):\n",
    "    model += captain[i] <= lineup[i]\n",
    "\n",
    "# Exactly 1 Goalkeeper\n",
    "model += plp.lpSum([lineup[i] for i in range(player_count) if projections_data.loc[i, 'Position'] == 'Goalkeeper']) == 1\n",
    "\n",
    "# Maximum 5 Defenders\n",
    "model += plp.lpSum([lineup[i] for i in range(player_count) if projections_data.loc[i, 'Position'] == 'Defender']) <= 5\n",
    "\n",
    "# Maximum 5 Midfielders\n",
    "model += plp.lpSum([lineup[i] for i in range(player_count) if projections_data.loc[i, 'Position'] == 'Midfielder']) <= 5\n",
    "\n",
    "# Exactly 1 Forward\n",
    "model += plp.lpSum([lineup[i] for i in range(player_count) if projections_data.loc[i, 'Position'] == 'Forward']) == 1\n",
    "\n",
    "# Budget constraint\n",
    "model += plp.lpSum([lineup[i] * projections_data.loc[i, 'Cost'] for i in range(player_count)]) <= 75\n",
    "\n",
    "# Maximum 5 players from Man Utd\n",
    "model += plp.lpSum([lineup[i] for i in range(player_count) if projections_data.loc[i, 'Team'] == 'Man Utd']) <= 5\n",
    "\n",
    "# Solve the problem\n",
    "model.solve()\n",
    "\n",
    "# Function to print players by position\n",
    "def print_players_by_position(players_dict):\n",
    "    total_points = 0\n",
    "    total_cost = 0\n",
    "    for position in ['Goalkeeper', 'Defender', 'Midfielder', 'Forward']:\n",
    "        if position in players_dict:\n",
    "            print(f\"\\n{position}:\")\n",
    "            for player in players_dict[position]:\n",
    "                captain_str = \" (C)\" if player['Captain'] else \"\"\n",
    "                points = player['Predicted_Points'] * (2 if player['Captain'] else 1)\n",
    "                print(f\"  {player['Name']}{captain_str} - {player['Team']} - Cost: {player['Cost']}m - Predicted Points: {points}\")\n",
    "                total_points += points\n",
    "                total_cost += player['Cost']\n",
    "    print(f\"\\nTotal Predicted Points: {round(total_points, 2)}\")\n",
    "    print(f\"Total Cost: {round(total_cost, 2)}m\")\n",
    "\n",
    "# Print the results\n",
    "print(\"Status:\", plp.LpStatus[model.status])\n",
    "selected_players = defaultdict(list)\n",
    "for i in range(player_count):\n",
    "    if lineup[i].value() == 1:\n",
    "        player = projections_data.loc[i]\n",
    "        selected_players[player['Position']].append({\n",
    "            'Name': player['Name'],\n",
    "            'Team': player['Team'],\n",
    "            'Cost': player['Cost'],\n",
    "            'Predicted_Points': player['Predicted_Points'],\n",
    "            'Captain': captain[i].value() == 1\n",
    "        })\n",
    "\n",
    "def solution_to_txt(players_dict, filename=\"solution.txt\", encoding=\"utf-8\"):\n",
    "    total_points = 0\n",
    "    total_cost = 0\n",
    "    with open(filename, 'w', encoding=encoding) as f:\n",
    "        f.write(f'Current Date & Time: {time.strftime(\"%Y-%m-%d\")} - {time.strftime(\"%H:%M:%S\")}\\n')\n",
    "        for position in ['Goalkeeper', 'Defender', 'Midfielder', 'Forward']:\n",
    "            if position in players_dict:\n",
    "                f.write(f\"\\n{position}:\\n\")\n",
    "                for player in players_dict[position]:\n",
    "                    captain_str = \" (C)\" if player['Captain'] else \"\"\n",
    "                    points = player['Predicted_Points'] * (2 if player['Captain'] else 1)\n",
    "                    f.write(f\"  {player['Name']}{captain_str} - {player['Team']} - Cost: {player['Cost']}m - Predicted Points: {points}\\n\")\n",
    "                    total_points += points\n",
    "                    total_cost += player['Cost']\n",
    "        f.write(f\"\\nTotal Predicted Points: {round(total_points, 2)}\\n\")\n",
    "        f.write(f\"Total Cost: {round(total_cost, 2)}m\\n\")\n",
    "        \n",
    "solution_to_txt(selected_players, \"optimal_solution.txt\")\n",
    "print_solution = True\n",
    "if print_solution:\n",
    "    print(\"\\nOptimal Lineup:\")\n",
    "    print_players_by_position(selected_players)"
   ]
  },
  {
   "cell_type": "code",
   "execution_count": 27,
   "metadata": {},
   "outputs": [],
   "source": [
    "def print_top_scorers_by_position(projections_data):\n",
    "    for position in ['Goalkeeper', 'Defender', 'Midfielder', 'Forward']:\n",
    "        top_scorers = projections_data[projections_data['Position'] == position].nlargest(10, 'Predicted_Points')\n",
    "        print(f'Top {position}s: ')\n",
    "        display(top_scorers)\n",
    "\n",
    "if print_solution:\n",
    "    print_top_scorers_by_position(projections_data)\n",
    "\n",
    "projections_data.to_csv('gameweek_projections.csv', index=False)"
   ]
  }
 ],
 "metadata": {
  "kernelspec": {
   "display_name": "Python 3",
   "language": "python",
   "name": "python3"
  },
  "language_info": {
   "codemirror_mode": {
    "name": "ipython",
    "version": 3
   },
   "file_extension": ".py",
   "mimetype": "text/x-python",
   "name": "python",
   "nbconvert_exporter": "python",
   "pygments_lexer": "ipython3",
   "version": "3.10.6"
  }
 },
 "nbformat": 4,
 "nbformat_minor": 2
}
