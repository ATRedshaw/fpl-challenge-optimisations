{
 "cells": [
  {
   "cell_type": "code",
   "execution_count": 70,
   "metadata": {},
   "outputs": [
    {
     "name": "stdout",
     "output_type": "stream",
     "text": [
      "Requirement already satisfied: pulp in c:\\users\\alex\\appdata\\local\\programs\\python\\python310\\lib\\site-packages (2.8.0)\n"
     ]
    },
    {
     "name": "stderr",
     "output_type": "stream",
     "text": [
      "\n",
      "[notice] A new release of pip is available: 23.0 -> 24.2\n",
      "[notice] To update, run: python.exe -m pip install --upgrade pip\n"
     ]
    }
   ],
   "source": [
    "# Relevant module imports and installs\n",
    "import pandas as pd\n",
    "!pip install pulp\n",
    "import pulp as plp\n",
    "import sys \n",
    "import os\n",
    "from collections import defaultdict"
   ]
  },
  {
   "cell_type": "code",
   "execution_count": 71,
   "metadata": {},
   "outputs": [
    {
     "name": "stdout",
     "output_type": "stream",
     "text": [
      "165\n"
     ]
    }
   ],
   "source": [
    "# Get the absolute path to the directory containing the Python file\n",
    "module_path = os.path.abspath(os.path.join('..', '..'))\n",
    "\n",
    "# Add the directory to sys.path\n",
    "if module_path not in sys.path:\n",
    "    sys.path.append(module_path)\n",
    "\n",
    "# Now you can import the module\n",
    "from projections import generate_projections, get_gameweek_projections\n",
    "\n",
    "projections_data = get_gameweek_projections(generate_projections(), 2)\n",
    "\n",
    "# For all predicted points, if position is Forward, multiply the value by 1.7, round to 2dp\n",
    "projections_data.loc[projections_data['Position'] == 'Forward', 'Predicted_Points'] *= 1.7\n",
    "projections_data['Predicted_Points'] = projections_data['Predicted_Points'].round(2)\n",
    "\n",
    "# Print any players' index here\n",
    "# print index of Haaland\n",
    "print(projections_data[projections_data['Name'] == 'Haaland'].index[0])"
   ]
  },
  {
   "cell_type": "markdown",
   "metadata": {},
   "source": [
    "# 2024/25 GW2 Challenge: All Out Attack - Goals are worth double points. Your squad may only contain 1 Goalkeeper and 4 Forwards."
   ]
  },
  {
   "cell_type": "code",
   "execution_count": 72,
   "metadata": {},
   "outputs": [
    {
     "name": "stdout",
     "output_type": "stream",
     "text": [
      "Status: Optimal\n"
     ]
    }
   ],
   "source": [
    "# Get the number of players and their list of ids\n",
    "player_ids = projections_data['ID'].tolist()\n",
    "player_count = len(player_ids)\n",
    "\n",
    "# Set up the problem\n",
    "model = plp.LpProblem(\"fpl-gw1-challenge\", plp.LpMaximize)\n",
    "\n",
    "# Define the decision variables\n",
    "lineup = [\n",
    "    plp.LpVariable(f\"lineup_{i}\", lowBound=0, upBound=1, cat=\"Integer\")\n",
    "    for i in player_ids\n",
    "]\n",
    "\n",
    "# Define captain variables\n",
    "captain = [\n",
    "    plp.LpVariable(f\"captain_{i}\", lowBound=0, upBound=1, cat=\"Integer\")\n",
    "    for i in player_ids\n",
    "]\n",
    "\n",
    "# Set the objective function (the number of points scored by the team, with captain's points doubled)\n",
    "model += plp.lpSum([lineup[i] * projections_data.loc[i, 'Predicted_Points'] for i in range(player_count)]) + \\\n",
    "         plp.lpSum([captain[i] * projections_data.loc[i, 'Predicted_Points'] for i in range(player_count)])\n",
    "\n",
    "# Constraints\n",
    "\n",
    "# Total number of players = 5 (1 goalkeeper + 4 forwards)\n",
    "model += plp.lpSum(lineup) == 5\n",
    "\n",
    "# List players by index to be EXCLUDED from the lineup\n",
    "# Haaland = 165\n",
    "model += lineup[165] == 0\n",
    "\n",
    "# Exactly one captain\n",
    "model += plp.lpSum(captain) == 1\n",
    "\n",
    "# Captain must be in the lineup\n",
    "for i in range(player_count):\n",
    "    model += captain[i] <= lineup[i]\n",
    "\n",
    "# Exactly 1 Goalkeeper\n",
    "model += plp.lpSum([lineup[i] for i in range(player_count) if projections_data.loc[i, 'Position'] == 'Goalkeeper']) == 1\n",
    "\n",
    "# Exactly 4 Forwards\n",
    "model += plp.lpSum([lineup[i] for i in range(player_count) if projections_data.loc[i, 'Position'] == 'Forward']) == 4\n",
    "\n",
    "# Budget constraint: Total cost must be less than or equal to 35m\n",
    "model += plp.lpSum([lineup[i] * projections_data.loc[i, 'Cost'] for i in range(player_count)]) <= 35\n",
    "\n",
    "# Solve the problem\n",
    "model.solve()\n",
    "\n",
    "# Function to print players by position\n",
    "def print_players_by_position(players_dict):\n",
    "    total_points = 0\n",
    "    total_cost = 0\n",
    "    for position in ['Goalkeeper', 'Forward']:\n",
    "        if position in players_dict:\n",
    "            print(f\"\\n{position}:\")\n",
    "            for player in players_dict[position]:\n",
    "                captain_str = \" (C)\" if player['Captain'] else \"\"\n",
    "                points = player['Predicted_Points'] * (2 if player['Captain'] else 1)\n",
    "                print(f\"  {player['Name']}{captain_str} - {player['Team']} - Cost: {player['Cost']}m - Predicted Points: {points}\")\n",
    "                total_points += points\n",
    "                total_cost += player['Cost']\n",
    "    print(f\"\\nTotal Predicted Points: {round(total_points, 2)}\")\n",
    "    print(f\"Total Cost: {round(total_cost, 2)}m\")\n",
    "\n",
    "# Print the results\n",
    "print(\"Status:\", plp.LpStatus[model.status])\n",
    "selected_players = defaultdict(list)\n",
    "for i in range(player_count):\n",
    "    if lineup[i].value() == 1:\n",
    "        player = projections_data.loc[i]\n",
    "        selected_players[player['Position']].append({\n",
    "            'Name': player['Name'],\n",
    "            'Team': player['Team'],\n",
    "            'Cost': player['Cost'],\n",
    "            'Predicted_Points': player['Predicted_Points'],\n",
    "            'Captain': captain[i].value() == 1\n",
    "        })\n",
    "\n",
    "print_solution = False\n",
    "if print_solution:\n",
    "    print(\"\\nOptimal Lineup:\")\n",
    "    print_players_by_position(selected_players)"
   ]
  }
 ],
 "metadata": {
  "kernelspec": {
   "display_name": "Python 3",
   "language": "python",
   "name": "python3"
  },
  "language_info": {
   "codemirror_mode": {
    "name": "ipython",
    "version": 3
   },
   "file_extension": ".py",
   "mimetype": "text/x-python",
   "name": "python",
   "nbconvert_exporter": "python",
   "pygments_lexer": "ipython3",
   "version": "3.10.6"
  }
 },
 "nbformat": 4,
 "nbformat_minor": 2
}
